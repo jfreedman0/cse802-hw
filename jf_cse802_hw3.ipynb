{
 "cells": [
  {
   "cell_type": "markdown",
   "metadata": {},
   "source": [
    "Joe Freedman - A47774975"
   ]
  },
  {
   "cell_type": "code",
   "execution_count": 1,
   "metadata": {
    "collapsed": false
   },
   "outputs": [],
   "source": [
    "import numpy as np\n",
    "import pandas as pd\n",
    "import matplotlib.pyplot as plt\n",
    "import math\n",
    "import scipy\n",
    "%matplotlib inline"
   ]
  },
  {
   "cell_type": "markdown",
   "metadata": {},
   "source": [
    "# MLE"
   ]
  },
  {
   "cell_type": "markdown",
   "metadata": {},
   "source": [
    "## (a)"
   ]
  },
  {
   "cell_type": "markdown",
   "metadata": {},
   "source": [
    "Given\n",
    "$$ p(x\\mid\\lambda)=\\frac{e^{-\\lambda}\\lambda^x}{x!} $$ \n",
    "\n",
    "Likelihood\n",
    "$$L(\\lambda) = \\underset{\\lambda}{\\operatorname{argmax}}\n",
    "\\prod_{k=1}^{N}\\frac{e^{-\\lambda}\\lambda^x_k}{x_k!} $$ \n",
    "\n",
    "Log-Likelihood\n",
    "$$=>l(\\lambda) = \\underset{\\lambda}{\\operatorname{argmax}}\n",
    "\\sum_{k=1}^{N}ln(\\frac{e^{-\\lambda}\\lambda^x_k}{x_k!}) $$\n",
    "\n",
    "$$=>l(\\lambda) = \\underset{\\lambda}{\\operatorname{argmax}}\n",
    "\\sum_{k=1}^{N}[-\\lambda+x_kln\\lambda-ln(x_k!)] $$\n",
    "\n",
    "$$=>l(\\lambda) = \\underset{\\lambda}{\\operatorname{argmax}}\n",
    "-N\\lambda+ln\\lambda\\sum_{k=1}^{N}x_k-\\sum_{k=1}^{N}ln(x_k!) $$\n",
    "\n",
    "$$=>\\frac{d}{d\\lambda}l(\\lambda) = 0 $$ \n",
    "\n",
    "Solve for $\\lambda$ which will be $\\hat{\\lambda}_{mle}$\n",
    "$$=>\\frac{d}{d\\lambda}[-N\\lambda+ln\\lambda\\sum_{k=1}^{N}x_k-\\sum_{k=1}^{N}ln(x_k!)] = 0 $$\n",
    "\n",
    "$$=>-N+\\frac{1}{\\lambda}\\sum_{k=1}^{N}x_k = 0 $$\n",
    "\n",
    "$$=>\\hat{\\lambda}_{mle} = \\frac{1}{N} \\sum_{k=1}^{N}x_k$$"
   ]
  },
  {
   "cell_type": "markdown",
   "metadata": {},
   "source": [
    "## (b)"
   ]
  },
  {
   "cell_type": "code",
   "execution_count": 2,
   "metadata": {
    "collapsed": false
   },
   "outputs": [
    {
     "name": "stdout",
     "output_type": "stream",
     "text": [
      "lambda_mle for training samples = 9.933\n"
     ]
    },
    {
     "data": {
      "text/plain": [
       "[<matplotlib.lines.Line2D at 0x11ecb4390>]"
      ]
     },
     "execution_count": 2,
     "metadata": {},
     "output_type": "execute_result"
    },
    {
     "data": {
      "image/png": "[encoded data removed]",
      "text/plain": [
       "<matplotlib.figure.Figure at 0x105ac2eb8>"
      ]
     },
     "metadata": {},
     "output_type": "display_data"
    }
   ],
   "source": [
    "def compute_lambda_mle(l):\n",
    "    return sum(l)/len(l)\n",
    "\n",
    "fp = open(\"random_poisson.txt\")\n",
    "data = sorted([int(line.strip()) for line in fp])\n",
    "lambda_mle = compute_lambda_mle(data)\n",
    "print(\"lambda_mle for training samples = {}\".format(lambda_mle))\n",
    "\n",
    "plt.plot(data, scipy.stats.poisson(lambda_mle).pmf(data))"
   ]
  },
  {
   "cell_type": "markdown",
   "metadata": {
    "collapsed": true
   },
   "source": [
    "# Uniform Distribution"
   ]
  },
  {
   "cell_type": "markdown",
   "metadata": {},
   "source": [
    "## (a)"
   ]
  },
  {
   "cell_type": "markdown",
   "metadata": {
    "collapsed": true
   },
   "source": [
    "$$p(x\\mid\\theta)~U(0,\\theta)=\\left\\{\n",
    "        \\begin{array}{ll}\n",
    "            \\frac{1}{\\theta} & \\quad 0 \\leq x \\leq \\theta \\\\\n",
    "            0 & \\quad otherwise\n",
    "        \\end{array}\n",
    "    \\right.$$\n",
    "    \n",
    "$$L(\\theta)=\\prod_{k=1}^n\\frac{1}{\\theta_k} = \\theta^{-n}$$\n",
    "\n",
    "$$lnL(\\theta)=-nln\\theta$$\n",
    "\n",
    "$$\\frac{d}{d\\theta}lnL(\\theta)=0$$\n",
    "\n",
    "$$\\frac{-n}{\\theta}=0$$\n",
    "\n",
    "$\\theta$ to maximize the deriviative $\\frac{d}{d\\theta}lnL(\\theta)$ is smallest possible $\\theta$ (closest to $0$). This occurs in the uniform distribution's max since it is uniform to $\\frac{1}{\\theta}$. Therefore $\\hat{\\theta}_{MLE} = max[D]$."
   ]
  },
  {
   "cell_type": "markdown",
   "metadata": {},
   "source": [
    "## (b)"
   ]
  },
  {
   "cell_type": "code",
   "execution_count": 299,
   "metadata": {
    "collapsed": false
   },
   "outputs": [
    {
     "data": {
      "text/plain": [
       "[<matplotlib.lines.Line2D at 0x12e5e4e80>]"
      ]
     },
     "execution_count": 299,
     "metadata": {},
     "output_type": "execute_result"
    },
    {
     "data": {
      "image/png": "[encoded data removed]",
      "text/plain": [
       "<matplotlib.figure.Figure at 0x12e5e4eb8>"
      ]
     },
     "metadata": {},
     "output_type": "display_data"
    }
   ],
   "source": [
    "x = np.linspace(0,0.6,1000)\n",
    "y = [1/0.6 for val in x]\n",
    "plt.plot(x,y, linewidth=2.0)\n",
    "\n",
    "x = np.linspace(0.6,1,1000)\n",
    "y = [0 for val in x]\n",
    "plt.plot(x,y, linewidth=2.0, color='b')"
   ]
  },
  {
   "cell_type": "markdown",
   "metadata": {},
   "source": [
    "The values of the other 4 points are not needed because as shown in part (a), the max value dictates what the distribution looks like."
   ]
  },
  {
   "cell_type": "markdown",
   "metadata": {},
   "source": [
    "# Bernoulli Distribution"
   ]
  },
  {
   "cell_type": "markdown",
   "metadata": {
    "collapsed": true
   },
   "source": [
    "$$p(x\\mid\\theta)=\\prod_{i=1}^d\\theta_i^{x_i}(1-\\theta_i)^{1-x_i}$$\n",
    "\n",
    "$$L(\\theta) = \\prod_{k=1}^n\\prod_{i=1}^d\\theta_i^{x_i}(1-\\theta_i)^{1-x_i}$$\n",
    "\n",
    "$$lnL(\\theta) = \\sum_{k=1}^n\\sum_{i=1}^dx_i-ln\\theta_i(1-x_i)ln(1-\\theta_i)$$\n",
    "\n",
    "$$lnL(\\theta) = \\sum_{k=1}^ndx_kln\\theta_k-d(1-x_k)ln(1-\\theta_k)$$"
   ]
  },
  {
   "cell_type": "markdown",
   "metadata": {},
   "source": [
    "This shows that the Bernoulli Distribution is based on one parameter $\\theta$. The entire distribution can be modeled with $\\theta$ and the MLE represents the $\\theta$ value that best approximates the distribution for the given training data."
   ]
  },
  {
   "cell_type": "markdown",
   "metadata": {},
   "source": [
    "# $\\omega_1$ and $\\omega_2$ Classification"
   ]
  },
  {
   "cell_type": "code",
   "execution_count": 3,
   "metadata": {
    "collapsed": false
   },
   "outputs": [],
   "source": [
    "mu1 = np.array([5,5])\n",
    "sigma1 = np.array([[1, 0],[0, 1]])\n",
    "mu2 = np.array([10, 10])\n",
    "sigma2 = np.array([[1, 0],[0, 1]])\n",
    "\n",
    "dist1_50 = [np.random.multivariate_normal(mu1, sigma1) \\\n",
    "            for _ in range(50)]\n",
    "dist2_50 = [np.random.multivariate_normal(mu2, sigma2) \\\n",
    "            for _ in range (50)]\n",
    "\n",
    "dist1_1000 = [np.random.multivariate_normal(mu1, sigma1) \\\n",
    "              for _ in range(1000)]\n",
    "dist2_1000 = [np.random.multivariate_normal(mu2, sigma2) \\\n",
    "              for _ in range (1000)]\n",
    "\n",
    "dist1_10000 = [np.random.multivariate_normal(mu1, sigma1) \\\n",
    "               for _ in range(10000)]\n",
    "dist2_10000 = [np.random.multivariate_normal(mu2, sigma2) \\\n",
    "               for _ in range (10000)]"
   ]
  },
  {
   "cell_type": "markdown",
   "metadata": {},
   "source": [
    "## (a)"
   ]
  },
  {
   "cell_type": "code",
   "execution_count": 4,
   "metadata": {
    "collapsed": false
   },
   "outputs": [
    {
     "name": "stdout",
     "output_type": "stream",
     "text": [
      "mu1_mle = \n",
      "[[5.12808011]\n",
      " [4.87646613]]\n",
      "\n",
      "sig1_mle = \n",
      "[[ 1.03830413 -0.18534008]\n",
      " [-0.18534008  1.01031005]]\n",
      "\n",
      "sig1_mle_det = \n",
      "1.0146581502224234\n",
      "\n",
      "sig1_mle_inv = \n",
      "[[0.99571471 0.18266258]\n",
      " [0.18266258 1.02330438]]\n",
      "\n",
      "mu2_mle = \n",
      "[[10.01727824]\n",
      " [ 9.80600274]]\n",
      "\n",
      "sig2_mle = \n",
      "[[ 0.95173649 -0.01821535]\n",
      " [-0.01821535  1.30251381]]\n",
      "\n",
      "sig2_mle_det = \n",
      "1.2393181248861833\n",
      "\n",
      "sig2_mle_inv = \n",
      "[[1.0509923  0.01469788]\n",
      " [0.01469788 0.76795172]]\n"
     ]
    }
   ],
   "source": [
    "mu1_mle = sum(dist1_50)/len(dist1_50)\n",
    "sig1_interm = [np.outer([x1,x2] - mu1_mle, \\\n",
    "                        [x1,x2] - mu1_mle) for (x1,x2) in dist1_50]\n",
    "sig1_mle = sum(sig1_interm)/len(sig1_interm)\n",
    "sig1_mle_det = np.linalg.det(sig1_mle)\n",
    "sig1_mle_inv = np.linalg.inv(sig1_mle)\n",
    "\n",
    "print(\"mu1_mle = \\n{}\\n\".format(mu1_mle.reshape(2,1)))\n",
    "print(\"sig1_mle = \\n{}\\n\".format(sig1_mle))\n",
    "print(\"sig1_mle_det = \\n{}\\n\".format(sig1_mle_det))\n",
    "print(\"sig1_mle_inv = \\n{}\\n\".format(sig1_mle_inv))\n",
    "\n",
    "\n",
    "mu2_mle = sum(dist2_50)/len(dist2_50)\n",
    "sig2_interm = [np.outer([x1,x2] - mu2_mle, \\\n",
    "                        [x1,x2] - mu1_mle) for (x1,x2) in dist2_50]\n",
    "sig2_mle = sum(sig2_interm)/len(sig2_interm)\n",
    "sig2_mle_det = np.linalg.det(sig2_mle)\n",
    "sig2_mle_inv = np.linalg.inv(sig2_mle)\n",
    "\n",
    "print(\"mu2_mle = \\n{}\\n\".format(mu2_mle.reshape(2,1)))\n",
    "print(\"sig2_mle = \\n{}\\n\".format(sig2_mle))\n",
    "print(\"sig2_mle_det = \\n{}\\n\".format(sig2_mle_det))\n",
    "print(\"sig2_mle_inv = \\n{}\".format(sig2_mle_inv))"
   ]
  },
  {
   "cell_type": "markdown",
   "metadata": {},
   "source": [
    "## (b)"
   ]
  },
  {
   "cell_type": "markdown",
   "metadata": {},
   "source": [
    "Bayes Decision Rule \n",
    "$$p(\\omega_j\\mid x) = \\frac{p(x\\mid\\omega_j)p(\\omega_j)}{p(x)} $$\n",
    "\n",
    "Set $p(\\omega_1\\mid x) = p(\\omega_2\\mid x)$ and solve for x. $p(x)$ cancels. As does $p(\\omega_j)$. \n",
    "\n",
    "Then take natural log of both sides.\n",
    "\n",
    "$$lnp(x\\mid\\omega_1)+lnp(x\\mid\\omega_2)$$\n",
    "\n",
    "$$ln\\begin{vmatrix}\\Sigma_1\\end{vmatrix}+(x-\\mu_1)^t\\Sigma_1^{-1}(x-\\mu_1)=ln\\begin{vmatrix}\\Sigma_2\\end{vmatrix}+(x-\\mu_2)^t\\Sigma_2^{-1}(x-\\mu_2)$$\n",
    "\n",
    "$$ln(1.015)+\\begin{bmatrix}x_1-5.13&x_2-4.88\\end{bmatrix}\n",
    "\\begin{bmatrix}0.996&0.183\\\\0.183&1.023\\end{bmatrix}\n",
    "\\begin{bmatrix}x_1-5.13\\\\x_2-4.88\\end{bmatrix}\n",
    "=$$$$ln(1.24)+\\begin{bmatrix}x_1-10.02&x_2-9.81\\end{bmatrix}\n",
    "\\begin{bmatrix}1.05&0.015\\\\0.015&0.768\\end{bmatrix}\n",
    "\\begin{bmatrix}x_1-10.02\\\\x_2-9.81\\end{bmatrix}$$\n",
    "\n",
    "Plug into wolfram alpha: \"ln(1.015)+0.996(x_1-5.13)^2+1.023(x_2-4.88)^2=ln(1.24)+1.05(x_1-10.02)^2+0.768(x_2-9.81)^2\".\n",
    "\n",
    "$$x_2\\approx6.3249×10^{-11}(19479.6\\sqrt{1.39505×10^{11}x_1^2 - 2.79605×10^{13}x_1 + 3.98604×10^{14}} - 1.57599×10^{11})$$"
   ]
  },
  {
   "cell_type": "code",
   "execution_count": 16,
   "metadata": {
    "collapsed": false
   },
   "outputs": [
    {
     "name": "stdout",
     "output_type": "stream",
     "text": [
      "Correctly classified: 100 data points (50 as w1 and 50 as w2)\n",
      "Incorrectly classified: 0 data points(0 as w1 and 0 as w2)\n",
      "Total: 100 data points\n",
      "Error rate 0/100 = 0.0\n",
      "\n",
      "confusion_matrix_est_bndry =\n",
      "[[50  0]\n",
      " [ 0 50]]\n"
     ]
    },
    {
     "data": {
      "image/png": "[encoded data removed]",
      "text/plain": [
       "<matplotlib.figure.Figure at 0x1219833c8>"
      ]
     },
     "metadata": {},
     "output_type": "display_data"
    }
   ],
   "source": [
    "plt.scatter([x1 for (x1,x2) in dist1_50], \\\n",
    "            [x2 for (x1,x2) in dist1_50], color='b', label=\"w1\")\n",
    "plt.scatter([x1 for (x1,x2) in dist2_50], \\\n",
    "            [x2 for (x1,x2) in dist2_50], color='g', label=\"w2\")\n",
    "\n",
    "x = np.linspace(2, 14, 1000)\n",
    "y = [6.3249*10**-11*(19479.6*math.sqrt(1.39505*10**11*val**2 - \\\n",
    "                                       2.79605*10**13*val + \\\n",
    "                                       3.98604*10**14) - \\\n",
    "                     1.57599*10**11) for val in x]\n",
    "plt.plot(x,y, color = 'orange', label=\"Est Bndry\")\n",
    "\n",
    "plt.legend(loc=4)\n",
    "\n",
    "# Find correctly and incorrectly classified data points\n",
    "correct_w1, incorrect_w1, correct_w2, incorrect_w2 = 0, 0, 0, 0\n",
    "for x,y in dist1_50:\n",
    "    if -y+6.3249*10**-11*(19479.6*math.sqrt(1.39505*10**11*x**2 - \\\n",
    "                                            2.79605*10**13*x + \\\n",
    "                                            3.98604*10**14) - \\\n",
    "                          1.57599*10**11) > 0:\n",
    "        correct_w1 += 1\n",
    "    else:\n",
    "        incorrect_w1 += 1\n",
    "        \n",
    "for x,y in dist2_50:\n",
    "    if -y+6.3249*10**-11*(19479.6*math.sqrt(1.39505*10**11*x**2 - \\\n",
    "                                            2.79605*10**13*x + \\\n",
    "                                            3.98604*10**14) - \\\n",
    "                          1.57599*10**11) > 0:\n",
    "        incorrect_w2 += 1\n",
    "    else:\n",
    "        correct_w2 += 1\n",
    "            \n",
    "total = correct_w1+incorrect_w1+correct_w2+incorrect_w2\n",
    "correct_total = correct_w1 + correct_w2\n",
    "incorrect_total = incorrect_w1 + incorrect_w2\n",
    "output = \"\"\"Correctly classified: {} data points ({} as w1 and {} as w2)\n",
    "Incorrectly classified: {} data points({} as w1 and {} as w2)\n",
    "Total: {} data points\\nError rate {}/{} = {}\"\"\"\n",
    "print(output.format(correct_total, correct_w1, correct_w2, \\\n",
    "                    incorrect_total, incorrect_w1, incorrect_w2,\\\n",
    "                    total, incorrect_total, total, \\\n",
    "                    incorrect_total/total))\n",
    "confusion = np.array([[correct_w1, incorrect_w1],\\\n",
    "                      [incorrect_w2, correct_w2]])\n",
    "\n",
    "print(\"\\nconfusion_matrix_est_bndry =\")\n",
    "print(confusion)"
   ]
  },
  {
   "cell_type": "markdown",
   "metadata": {},
   "source": [
    "## (c)"
   ]
  },
  {
   "cell_type": "markdown",
   "metadata": {},
   "source": [
    "Bayes Decision Rule \n",
    "$$p(\\omega_j\\mid x) = \\frac{p(x\\mid\\omega_j)p(\\omega_j)}{p(x)} $$\n",
    "\n",
    "Set $p(\\omega_1\\mid x) = p(\\omega_2\\mid x)$ and solve for x. $p(x)$ cancels. As does $p(\\omega_j)$. \n",
    "\n",
    "Then take natural log of both sides.\n",
    "\n",
    "$$lnp(x\\mid\\omega_1)+lnp(x\\mid\\omega_2)$$\n",
    "\n",
    "$$ln\\begin{vmatrix}\\Sigma_1\\end{vmatrix}+(x-\\mu_1)^t\\Sigma_1^{-1}(x-\\mu_1)=ln\\begin{vmatrix}\\Sigma_2\\end{vmatrix}+(x-\\mu_2)^t\\Sigma_2^{-1}(x-\\mu_2)$$\n",
    "\n",
    "Since $\\Sigma_1=\\Sigma_2=\\Sigma_1^{-1}=\\Sigma_2^{-1}=I$ and $det(I)=1$ and $ln1=0$\n",
    "\n",
    "$$(x-\\mu_1)^t(x-\\mu_1)=(x-\\mu_2)^t{-1}(x-\\mu_2)$$\n",
    "\n",
    "$$\\begin{bmatrix}x_1-5&x_2-5\\end{bmatrix}\n",
    "\\begin{bmatrix}x_1-5\\\\x_2-5\\end{bmatrix}\n",
    "=\\begin{bmatrix}x_1-10&x_2-10\\end{bmatrix}\n",
    "\\begin{bmatrix}x_1-10\\\\x_2-10\\end{bmatrix}$$\n",
    "\n",
    "$$(x_1-5)^2+(x_2-5)^2=(x_1-10)^2+(x_2-10)^2$$\n",
    "\n",
    "$$10x_1+10x_2-150=0$$\n",
    "\n",
    "$$x_1+x_2-15=0$$\n",
    "\n",
    "$$x_2=15-x_1$$"
   ]
  },
  {
   "cell_type": "code",
   "execution_count": 6,
   "metadata": {
    "collapsed": false
   },
   "outputs": [
    {
     "name": "stdout",
     "output_type": "stream",
     "text": [
      "Correctly classified: 100 data points (50 as w1 and 50 as w2)\n",
      "Incorrectly classified: 0 data points(0 as w1 and 0 as w2)\n",
      "Total: 100 data points\n",
      "Error rate 0/100 = 0.0\n",
      "\n",
      "confusion_matrix_true_bndry =\n",
      "[[50  0]\n",
      " [ 0 50]]\n"
     ]
    },
    {
     "data": {
      "image/png": "[encoded data removed]",
      "text/plain": [
       "<matplotlib.figure.Figure at 0x12196d630>"
      ]
     },
     "metadata": {},
     "output_type": "display_data"
    }
   ],
   "source": [
    "plt.scatter([x1 for (x1,x2) in dist1_50], \\\n",
    "            [x2 for (x1,x2) in dist1_50], color='b', label=\"w1\")\n",
    "plt.scatter([x1 for (x1,x2) in dist2_50], \\\n",
    "            [x2 for (x1,x2) in dist2_50], color='g', label=\"w2\")\n",
    "\n",
    "x = np.linspace(2, 14, 1000)\n",
    "y = [15-val for val in x]\n",
    "plt.plot(x,y, color = 'r', label=\"True Bndry\")\n",
    "\n",
    "plt.legend(loc=4)\n",
    "\n",
    "# Find correctly and incorrectly classified data points\n",
    "correct_w1, incorrect_w1, correct_w2, incorrect_w2 = 0, 0, 0, 0\n",
    "for x,y in dist1_50:\n",
    "    if -y+15-x > 0:\n",
    "        correct_w1 += 1\n",
    "    else:\n",
    "        incorrect_w1 += 1\n",
    "        \n",
    "for x,y in dist2_50:\n",
    "    if -y+15-x > 0:\n",
    "        incorrect_w2 += 1\n",
    "    else:\n",
    "        correct_w2 += 1\n",
    "            \n",
    "total = correct_w1+incorrect_w1+correct_w2+incorrect_w2\n",
    "correct_total = correct_w1 + correct_w2\n",
    "incorrect_total = incorrect_w1 + incorrect_w2\n",
    "output = \"\"\"Correctly classified: {} data points ({} as w1 and {} as w2)\n",
    "Incorrectly classified: {} data points({} as w1 and {} as w2)\n",
    "Total: {} data points\\nError rate {}/{} = {}\"\"\"\n",
    "print(output.format(correct_total, correct_w1, correct_w2, \\\n",
    "                    incorrect_total, incorrect_w1, incorrect_w2,\\\n",
    "                    total, incorrect_total, total, \\\n",
    "                    incorrect_total/total))\n",
    "confusion = np.array([[correct_w1, incorrect_w1],\\\n",
    "                      [incorrect_w2, correct_w2]])\n",
    "\n",
    "print(\"\\nconfusion_matrix_true_bndry =\")\n",
    "print(confusion)"
   ]
  },
  {
   "cell_type": "markdown",
   "metadata": {},
   "source": [
    "## (d)"
   ]
  },
  {
   "cell_type": "markdown",
   "metadata": {},
   "source": [
    "### 1000 Random Points"
   ]
  },
  {
   "cell_type": "code",
   "execution_count": 7,
   "metadata": {
    "collapsed": false
   },
   "outputs": [
    {
     "name": "stdout",
     "output_type": "stream",
     "text": [
      "mu1_mle = \n",
      "[[5.06057129]\n",
      " [5.00110466]]\n",
      "\n",
      "sig1_mle = \n",
      "[[0.98173784 0.018121  ]\n",
      " [0.018121   0.97867797]]\n",
      "\n",
      "sig1_mle_det = \n",
      "0.9604768189450288\n",
      "\n",
      "sig1_mle_inv = \n",
      "[[ 1.01895012 -0.01886667]\n",
      " [-0.01886667  1.0221359 ]]\n",
      "\n",
      "mu2_mle = \n",
      "[[9.93931807]\n",
      " [9.98751904]]\n",
      "\n",
      "sig2_mle = \n",
      "[[ 0.99183267 -0.0088699 ]\n",
      " [-0.0088699   0.96439665]]\n",
      "\n",
      "sig2_mle_det = \n",
      "0.9564414291322848\n",
      "\n",
      "sig2_mle_inv = \n",
      "[[1.00831752 0.00927386]\n",
      " [0.00927386 1.03700304]]\n"
     ]
    }
   ],
   "source": [
    "mu1_mle = sum(dist1_1000)/len(dist1_1000)\n",
    "sig1_interm = [np.outer([x1,x2] - mu1_mle, \\\n",
    "                        [x1,x2] - mu1_mle) for (x1,x2) in dist1_1000]\n",
    "sig1_mle = sum(sig1_interm)/len(sig1_interm)\n",
    "sig1_mle_det = np.linalg.det(sig1_mle)\n",
    "sig1_mle_inv = np.linalg.inv(sig1_mle)\n",
    "\n",
    "print(\"mu1_mle = \\n{}\\n\".format(mu1_mle.reshape(2,1)))\n",
    "print(\"sig1_mle = \\n{}\\n\".format(sig1_mle))\n",
    "print(\"sig1_mle_det = \\n{}\\n\".format(sig1_mle_det))\n",
    "print(\"sig1_mle_inv = \\n{}\\n\".format(sig1_mle_inv))\n",
    "\n",
    "\n",
    "mu2_mle = sum(dist2_1000)/len(dist2_1000)\n",
    "sig2_interm = [np.outer([x1,x2] - mu2_mle, \\\n",
    "                        [x1,x2] - mu1_mle) for (x1,x2) in dist2_1000]\n",
    "sig2_mle = sum(sig2_interm)/len(sig2_interm)\n",
    "sig2_mle_det = np.linalg.det(sig2_mle)\n",
    "sig2_mle_inv = np.linalg.inv(sig2_mle)\n",
    "\n",
    "print(\"mu2_mle = \\n{}\\n\".format(mu2_mle.reshape(2,1)))\n",
    "print(\"sig2_mle = \\n{}\\n\".format(sig2_mle))\n",
    "print(\"sig2_mle_det = \\n{}\\n\".format(sig2_mle_det))\n",
    "print(\"sig2_mle_inv = \\n{}\".format(sig2_mle_inv))"
   ]
  },
  {
   "cell_type": "markdown",
   "metadata": {},
   "source": [
    "Bayes Decision Rule \n",
    "$$p(\\omega_j\\mid x) = \\frac{p(x\\mid\\omega_j)p(\\omega_j)}{p(x)} $$\n",
    "\n",
    "Set $p(\\omega_1\\mid x) = p(\\omega_2\\mid x)$ and solve for x. $p(x)$ cancels. As does $p(\\omega_j)$. \n",
    "\n",
    "Then take natural log of both sides.\n",
    "\n",
    "$$lnp(x\\mid\\omega_1)+lnp(x\\mid\\omega_2)$$\n",
    "\n",
    "$$ln\\begin{vmatrix}\\Sigma_1\\end{vmatrix}+(x-\\mu_1)^t\\Sigma_1^{-1}(x-\\mu_1)=ln\\begin{vmatrix}\\Sigma_2\\end{vmatrix}+(x-\\mu_2)^t\\Sigma_2^{-1}(x-\\mu_2)$$\n",
    "\n",
    "$$ln(0.96)+\\begin{bmatrix}x_1-5.06&x_2-5.00\\end{bmatrix}\n",
    "\\begin{bmatrix}1.019&-0.019\\\\-0.019&1.022\\end{bmatrix}\n",
    "\\begin{bmatrix}x_1-5.06\\\\x_2-5.00\\end{bmatrix}\n",
    "=$$$$ln(0.956)+\\begin{bmatrix}x_1-9.94&x_2-9.99\\end{bmatrix}\n",
    "\\begin{bmatrix}1.008&-0.01\\\\-0.01&1.037\\end{bmatrix}\n",
    "\\begin{bmatrix}x_1-9.94\\\\x_2-9.99\\end{bmatrix}$$\n",
    "\n",
    "Plug into wolfram alpha: \"ln(0.96)+1.019(x_1-5.06)^2+1.022(x_2-5.00)^2=ln(0.956)+1.008(x_1-9.94)^2+1.037(x_2-9.99)^2\".\n",
    "\n",
    "$$x_2\\approx1.54456×10^{-9}(2.26586×10^{11} - 656.98\\sqrt{7.12178×10^{11}x_1^2 + 6.29744×10^{14}x_1 + 1.09144×10^{17}})$$"
   ]
  },
  {
   "cell_type": "code",
   "execution_count": 21,
   "metadata": {
    "collapsed": false
   },
   "outputs": [
    {
     "name": "stdout",
     "output_type": "stream",
     "text": [
      "Correctly classified: 1999 data points (1000 as w1 and 999 as w2)\n",
      "Incorrectly classified: 1 data points(0 as w1 and 1 as w2)\n",
      "Total: 2000 data points\n",
      "Error rate 1/2000 = 0.0005\n",
      "\n",
      "confusion_matrix_est_bndry =\n",
      "[[1000    0]\n",
      " [   1  999]]\n"
     ]
    },
    {
     "data": {
      "image/png": "[encoded data removed]",
      "text/plain": [
       "<matplotlib.figure.Figure at 0x1230d4710>"
      ]
     },
     "metadata": {},
     "output_type": "display_data"
    }
   ],
   "source": [
    "plt.scatter([x1 for (x1,x2) in dist1_1000], \\\n",
    "            [x2 for (x1,x2) in dist1_1000], color='b', label=\"w1\")\n",
    "plt.scatter([x1 for (x1,x2) in dist2_1000], \\\n",
    "            [x2 for (x1,x2) in dist2_1000], color='g', label=\"w2\")\n",
    "\n",
    "x = np.linspace(2, 14, 1000)\n",
    "y = [15-val for val in x]\n",
    "plt.plot(x,y, color = 'r', label='True Bndry')\n",
    "\n",
    "x = np.linspace(2, 14, 1000)\n",
    "y = [1.54456*10**-9*(2.26586*10**11 - 656.98*\\\n",
    "                     math.sqrt(7.12178*10**11*\\\n",
    "                               val**2 + 6.29744*10**14*val +\\\n",
    "                               1.09144*10**17)) for val in x]\n",
    "plt.plot(x,y, color = 'orange', label=\"Est Bndry\")\n",
    "\n",
    "plt.legend(loc=4)\n",
    "\n",
    "# Find correctly and incorrectly classified data points\n",
    "correct_w1, incorrect_w1, correct_w2, incorrect_w2 = 0, 0, 0, 0\n",
    "for x,y in dist1_1000:\n",
    "    if -y+1.54456*10**-9*(2.26586*10**11 - 656.98*\\\n",
    "                          math.sqrt(7.12178*10**11*\\\n",
    "                                    x**2 + 6.29744*10**14*x + \\\n",
    "                                    1.09144*10**17)) > 0:\n",
    "        correct_w1 += 1\n",
    "    else:\n",
    "        incorrect_w1 += 1\n",
    "        \n",
    "for x,y in dist2_1000:\n",
    "    if -y+1.54456*10**-9*(2.26586*10**11 - 656.98*\\\n",
    "                          math.sqrt(7.12178*10**11*\\\n",
    "                                    x**2 + 6.29744*10**14*x + \\\n",
    "                                    1.09144*10**17)) > 0:\n",
    "        incorrect_w2 += 1\n",
    "    else:\n",
    "        correct_w2 += 1\n",
    "            \n",
    "total = correct_w1+incorrect_w1+correct_w2+incorrect_w2\n",
    "correct_total = correct_w1 + correct_w2\n",
    "incorrect_total = incorrect_w1 + incorrect_w2\n",
    "output = \"\"\"Correctly classified: {} data points ({} as w1 and {} as w2)\n",
    "Incorrectly classified: {} data points({} as w1 and {} as w2)\n",
    "Total: {} data points\\nError rate {}/{} = {}\"\"\"\n",
    "print(output.format(correct_total, correct_w1, correct_w2, \\\n",
    "                    incorrect_total, incorrect_w1, incorrect_w2,\\\n",
    "                    total, incorrect_total, total, \\\n",
    "                    incorrect_total/total))\n",
    "confusion = np.array([[correct_w1, incorrect_w1],\\\n",
    "                      [incorrect_w2, correct_w2]])\n",
    "\n",
    "print(\"\\nconfusion_matrix_est_bndry =\")\n",
    "print(confusion)"
   ]
  },
  {
   "cell_type": "markdown",
   "metadata": {},
   "source": [
    "### 10000 Random Points"
   ]
  },
  {
   "cell_type": "code",
   "execution_count": 9,
   "metadata": {
    "collapsed": false
   },
   "outputs": [
    {
     "name": "stdout",
     "output_type": "stream",
     "text": [
      "mu1_mle = \n",
      "[[4.9828904 ]\n",
      " [5.00180622]]\n",
      "\n",
      "sig1_mle = \n",
      "[[ 0.9863034  -0.00626088]\n",
      " [-0.00626088  0.99844516]]\n",
      "\n",
      "sig1_mle_det = \n",
      "0.9847306587359723\n",
      "\n",
      "sig1_mle_inv = \n",
      "[[1.01392716 0.00635797]\n",
      " [0.00635797 1.00159713]]\n",
      "\n",
      "mu2_mle = \n",
      "[[ 9.99666947]\n",
      " [10.0128739 ]]\n",
      "\n",
      "sig2_mle = \n",
      "[[ 1.01980929 -0.00441288]\n",
      " [-0.00441288  0.98070136]]\n",
      "\n",
      "sig2_mle_det = \n",
      "1.0001088891269236\n",
      "\n",
      "sig2_mle_inv = \n",
      "[[0.98059459 0.0044124 ]\n",
      " [0.0044124  1.01969826]]\n"
     ]
    }
   ],
   "source": [
    "mu1_mle = sum(dist1_10000)/len(dist1_10000)\n",
    "sig1_interm = [np.outer([x1,x2] - mu1_mle, \\\n",
    "                        [x1,x2] - mu1_mle) for (x1,x2) in dist1_10000]\n",
    "sig1_mle = sum(sig1_interm)/len(sig1_interm)\n",
    "sig1_mle_det = np.linalg.det(sig1_mle)\n",
    "sig1_mle_inv = np.linalg.inv(sig1_mle)\n",
    "\n",
    "print(\"mu1_mle = \\n{}\\n\".format(mu1_mle.reshape(2,1)))\n",
    "print(\"sig1_mle = \\n{}\\n\".format(sig1_mle))\n",
    "print(\"sig1_mle_det = \\n{}\\n\".format(sig1_mle_det))\n",
    "print(\"sig1_mle_inv = \\n{}\\n\".format(sig1_mle_inv))\n",
    "\n",
    "\n",
    "mu2_mle = sum(dist2_10000)/len(dist2_10000)\n",
    "sig2_interm = [np.outer([x1,x2] - mu2_mle, \\\n",
    "                        [x1,x2] - mu1_mle) for (x1,x2) in dist2_10000]\n",
    "sig2_mle = sum(sig2_interm)/len(sig2_interm)\n",
    "sig2_mle_det = np.linalg.det(sig2_mle)\n",
    "sig2_mle_inv = np.linalg.inv(sig2_mle)\n",
    "\n",
    "print(\"mu2_mle = \\n{}\\n\".format(mu2_mle.reshape(2,1)))\n",
    "print(\"sig2_mle = \\n{}\\n\".format(sig2_mle))\n",
    "print(\"sig2_mle_det = \\n{}\\n\".format(sig2_mle_det))\n",
    "print(\"sig2_mle_inv = \\n{}\".format(sig2_mle_inv))"
   ]
  },
  {
   "cell_type": "markdown",
   "metadata": {},
   "source": [
    "Bayes Decision Rule \n",
    "$$p(\\omega_j\\mid x) = \\frac{p(x\\mid\\omega_j)p(\\omega_j)}{p(x)} $$\n",
    "\n",
    "Set $p(\\omega_1\\mid x) = p(\\omega_2\\mid x)$ and solve for x. $p(x)$ cancels. As does $p(\\omega_j)$. \n",
    "\n",
    "Then take natural log of both sides.\n",
    "\n",
    "$$lnp(x\\mid\\omega_1)+lnp(x\\mid\\omega_2)$$\n",
    "\n",
    "$$ln\\begin{vmatrix}\\Sigma_1\\end{vmatrix}+(x-\\mu_1)^t\\Sigma_1^{-1}(x-\\mu_1)=ln\\begin{vmatrix}\\Sigma_2\\end{vmatrix}+(x-\\mu_2)^t\\Sigma_2^{-1}(x-\\mu_2)$$\n",
    "\n",
    "$$ln(0.985)+\\begin{bmatrix}x_1-4.98&x_2-5.00\\end{bmatrix}\n",
    "\\begin{bmatrix}1.014&0.006\\\\0.006&1.002\\end{bmatrix}\n",
    "\\begin{bmatrix}x_1-4.98\\\\x_2-5.00\\end{bmatrix}\n",
    "=$$$$ln(1.00)+\\begin{bmatrix}x_1-9.997&x_2-10.01\\end{bmatrix}\n",
    "\\begin{bmatrix}0.98&0.004\\\\0.004&1.02\\end{bmatrix}\n",
    "\\begin{bmatrix}x_1-9.996\\\\x_2-10.01\\end{bmatrix}$$\n",
    "\n",
    "Plug into wolfram alpha: \"ln(0.985)+1.014(x_1-4.98)^2+1.002(x_2-5.00)^2=ln(1.00)+0.98(x_1-9.997)^2+1.02(x_2-10.01)^2\".\n",
    "\n",
    "$$x_2\\approx1.02851×10^{-53}(2.80893×10^{55} - 3.77422×10^{28}\\sqrt{1.25354×10^{49} x_1^2 + 3.50057×10^{51} x_1 + 4.98604×10^{53}})$$"
   ]
  },
  {
   "cell_type": "code",
   "execution_count": 25,
   "metadata": {
    "collapsed": false
   },
   "outputs": [
    {
     "name": "stdout",
     "output_type": "stream",
     "text": [
      "Correctly classified: 19998 data points (9999 as w1 and 9999 as w2)\n",
      "Incorrectly classified: 2 data points(1 as w1 and 1 as w2)\n",
      "Total: 20000 data points\n",
      "Error rate 2/20000 = 0.0001\n",
      "\n",
      "confusion_matrix_est_bndry =\n",
      "[[9999    1]\n",
      " [   1 9999]]\n"
     ]
    },
    {
     "data": {
      "image/png": "[encoded data removed]",
      "text/plain": [
       "<matplotlib.figure.Figure at 0x11f2e0080>"
      ]
     },
     "metadata": {},
     "output_type": "display_data"
    }
   ],
   "source": [
    "plt.scatter([x1 for (x1,x2) in dist1_10000], \\\n",
    "            [x2 for (x1,x2) in dist1_10000], color='b', label=\"w1\")\n",
    "plt.scatter([x1 for (x1,x2) in dist2_10000], \\\n",
    "            [x2 for (x1,x2) in dist2_10000], color='g', label=\"w2\")\n",
    "\n",
    "x = np.linspace(2, 14, 1000)\n",
    "y = [15-val for val in x]\n",
    "plt.plot(x,y, color = 'r', label='True Bndry')\n",
    "\n",
    "x = np.linspace(2, 14, 1000)\n",
    "y = [1.02851*10**-53*(2.80893*10**55 - 3.77422*10**28*\\\n",
    "                      math.sqrt(1.25354*10**49*val**2 \\\n",
    "                                + 3.50057*10**51*val + \\\n",
    "                                4.98604*10**53)) for val in x]\n",
    "plt.plot(x,y, color = 'orange', label=\"Est Bndry\")\n",
    "\n",
    "plt.legend(loc=4)\n",
    "\n",
    "\n",
    "# Find correctly and incorrectly classified data points\n",
    "correct_w1, incorrect_w1, correct_w2, incorrect_w2 = 0, 0, 0, 0\n",
    "for x,y in dist1_10000:\n",
    "    if -y+1.02851*10**-53*(2.80893*10**55 - 3.77422*10**28*\\\n",
    "                           math.sqrt(1.25354*10**49*x**2 \\\n",
    "                                     + 3.50057*10**51*x + \\\n",
    "                                     4.98604*10**53)) > 0:\n",
    "        correct_w1 += 1\n",
    "    else:\n",
    "        incorrect_w1 += 1\n",
    "        \n",
    "for x,y in dist2_10000:\n",
    "    if -y+1.02851*10**-53*(2.80893*10**55 - 3.77422*10**28*\\\n",
    "                           math.sqrt(1.25354*10**49*x**2 +\\\n",
    "                                     3.50057*10**51*x + \\\n",
    "                                     4.98604*10**53)) > 0:\n",
    "        incorrect_w2 += 1\n",
    "    else:\n",
    "        correct_w2 += 1\n",
    "            \n",
    "total = correct_w1+incorrect_w1+correct_w2+incorrect_w2\n",
    "correct_total = correct_w1 + correct_w2\n",
    "incorrect_total = incorrect_w1 + incorrect_w2\n",
    "output = \"\"\"Correctly classified: {} data points ({} as w1 and {} as w2)\n",
    "Incorrectly classified: {} data points({} as w1 and {} as w2)\n",
    "Total: {} data points\\nError rate {}/{} = {}\"\"\"\n",
    "print(output.format(correct_total, correct_w1, correct_w2, \\\n",
    "                    incorrect_total, incorrect_w1, incorrect_w2,\\\n",
    "                    total, incorrect_total, total, \\\n",
    "                    incorrect_total/total))\n",
    "confusion = np.array([[correct_w1, incorrect_w1],\\\n",
    "                      [incorrect_w2, correct_w2]])\n",
    "\n",
    "print(\"\\nconfusion_matrix_est_bndry =\")\n",
    "print(confusion)"
   ]
  },
  {
   "cell_type": "markdown",
   "metadata": {},
   "source": [
    "The estimated parameters become closer to the true values and the empirical error rate decreases in (b) as the number of representative training samples increases."
   ]
  },
  {
   "cell_type": "markdown",
   "metadata": {},
   "source": [
    "# Iris Dataset"
   ]
  },
  {
   "cell_type": "markdown",
   "metadata": {},
   "source": [
    "## (a)"
   ]
  },
  {
   "cell_type": "code",
   "execution_count": 138,
   "metadata": {
    "collapsed": false
   },
   "outputs": [],
   "source": [
    "columns = [\"x1\", \"x2\", \"x3\", \"x4\", \"class\"]\n",
    "data = pd.read_table('iris_data.txt', sep=\"\\t\", header=None, names=columns)\n",
    "first_25_class1 = data[data[\"class\"] == 1]\\\n",
    "[['x1','x2','x3', 'x4']].head(25)\n",
    "first_25_class2 = data[data[\"class\"] == 2]\\\n",
    "[['x1','x2','x3', 'x4']].head(25)\n",
    "first_25_class3 = data[data[\"class\"] == 3]\\\n",
    "[['x1','x2','x3', 'x4']].head(25)"
   ]
  },
  {
   "cell_type": "code",
   "execution_count": 139,
   "metadata": {
    "collapsed": false
   },
   "outputs": [
    {
     "name": "stdout",
     "output_type": "stream",
     "text": [
      "mu1_mle = \n",
      "[[5.028]\n",
      " [3.48 ]\n",
      " [1.46 ]\n",
      " [0.248]]\n",
      "\n",
      "sig1_mle = \n",
      "[[0.16043333 0.11808333 0.02408333 0.01943333]\n",
      " [0.11808333 0.13583333 0.00625    0.02225   ]\n",
      " [0.02408333 0.00625    0.03916667 0.00658333]\n",
      " [0.01943333 0.02225    0.00658333 0.01093333]]\n",
      "\n",
      "mu2_mle = \n",
      "[[6.012]\n",
      " [2.776]\n",
      " [4.312]\n",
      " [1.344]]\n",
      "\n",
      "sig2_mle = \n",
      "[[0.30026667 0.10946667 0.18651667 0.05195   ]\n",
      " [0.10946667 0.1244     0.08863333 0.04651667]\n",
      " [0.18651667 0.08863333 0.19693333 0.06403333]\n",
      " [0.05195    0.04651667 0.06403333 0.04256667]]\n",
      "\n",
      "mu3_mle = \n",
      "[[6.576]\n",
      " [2.928]\n",
      " [5.64 ]\n",
      " [2.044]]\n",
      "\n",
      "sig3_mle = \n",
      "[[0.5244     0.12153333 0.43225    0.06193333]\n",
      " [0.12153333 0.13043333 0.09883333 0.06038333]\n",
      " [0.43225    0.09883333 0.4175     0.06733333]\n",
      " [0.06193333 0.06038333 0.06733333 0.06506667]]\n",
      "\n"
     ]
    }
   ],
   "source": [
    "mu1_mle=np.array(first_25_class1.describe().T[\"mean\"])\n",
    "sig1_mle=np.array(first_25_class1.cov())\n",
    "print(\"mu1_mle = \\n{}\\n\".format(mu1_mle.reshape(4,1)))\n",
    "print(\"sig1_mle = \\n{}\\n\".format(sig1_mle))\n",
    "\n",
    "mu2_mle=np.array(first_25_class2.describe().T[\"mean\"])\n",
    "sig2_mle=np.array(first_25_class2.cov())\n",
    "print(\"mu2_mle = \\n{}\\n\".format(mu2_mle.reshape(4,1)))\n",
    "print(\"sig2_mle = \\n{}\\n\".format(sig2_mle))\n",
    "\n",
    "mu3_mle=np.array(first_25_class3.describe().T[\"mean\"])\n",
    "sig3_mle=np.array(first_25_class3.cov())\n",
    "print(\"mu3_mle = \\n{}\\n\".format(mu3_mle.reshape(4,1)))\n",
    "print(\"sig3_mle = \\n{}\\n\".format(sig3_mle))"
   ]
  },
  {
   "cell_type": "markdown",
   "metadata": {},
   "source": [
    "## (b)"
   ]
  },
  {
   "cell_type": "code",
   "execution_count": 140,
   "metadata": {
    "collapsed": false
   },
   "outputs": [],
   "source": [
    "def classify(x):\n",
    "    val1 = 1/((2*math.pi)**2*np.linalg.det(sig1_mle)**(1/2))*\\\n",
    "    math.exp(-1/2*np.dot(np.dot((x-mu1_mle),np.linalg.inv(sig1_mle))\\\n",
    "                         , (x-mu1_mle).reshape(4,1))[0])\n",
    "    val2 = 1/((2*math.pi)**2*np.linalg.det(sig2_mle)**(1/2))*\\\n",
    "    math.exp(-1/2*np.dot(np.dot((x-mu2_mle),np.linalg.inv(sig2_mle)), \\\n",
    "                         (x-mu2_mle).reshape(4,1))[0])\n",
    "    val3 = 1/((2*math.pi)**2*np.linalg.det(sig3_mle)**(1/2))*\\\n",
    "    math.exp(-1/2*np.dot(np.dot((x-mu3_mle),np.linalg.inv(sig3_mle)), \\\n",
    "                         (x-mu3_mle).reshape(4,1))[0])\n",
    "    \n",
    "    m = max(val1, val2, val3)\n",
    "    if m == val1:\n",
    "        return 1\n",
    "    elif m == val2:\n",
    "        return 2\n",
    "    else:\n",
    "        return 3"
   ]
  },
  {
   "cell_type": "markdown",
   "metadata": {},
   "source": [
    "## (c)"
   ]
  },
  {
   "cell_type": "code",
   "execution_count": 143,
   "metadata": {
    "collapsed": false
   },
   "outputs": [
    {
     "name": "stdout",
     "output_type": "stream",
     "text": [
      "confusion_matrix = \n",
      "[[25  0  0]\n",
      " [ 0 24  1]\n",
      " [ 0  1 24]]\n",
      "\n",
      "error rate = 0.02666666666666667\n"
     ]
    }
   ],
   "source": [
    "last_25_class1 = data[data[\"class\"] == 1]\\\n",
    "[['x1','x2','x3', 'x4']].tail(25)\n",
    "last_25_class2 = data[data[\"class\"] == 2]\\\n",
    "[['x1','x2','x3', 'x4']].tail(25)\n",
    "last_25_class3 = data[data[\"class\"] == 3]\\\n",
    "[['x1','x2','x3', 'x4']].tail(25) \n",
    "\n",
    "c11, c12, c13, c21, c22, c23, c31, c32, c33 = 0,0,0,0,0,0,0,0,0\n",
    "\n",
    "for index, row in last_25_class1.iterrows():\n",
    "    pred = classify(np.array(row))\n",
    "    if pred == 1:\n",
    "        c11 += 1\n",
    "    elif pred == 2:\n",
    "        c21 += 1\n",
    "    else:\n",
    "        c31 += 1\n",
    "    \n",
    "for index, row in last_25_class2.iterrows():\n",
    "    pred = classify(np.array(row))\n",
    "    if pred == 1:\n",
    "        c12 += 1\n",
    "    elif pred == 2:\n",
    "        c22 += 1\n",
    "    else:\n",
    "        c32 += 1\n",
    "    \n",
    "for index, row in last_25_class3.iterrows():\n",
    "    pred = classify(np.array(row))\n",
    "    if pred == 1:\n",
    "        c13 += 1\n",
    "    elif pred == 2:\n",
    "        c23 += 1\n",
    "    else:\n",
    "        c33 += 1\n",
    "        \n",
    "        \n",
    "# c12 denotes predicted 1, actual 2\n",
    "confusion = np.array([[c11, c12, c13],[c21, c22, c23],[c31,c32,c33]])\n",
    "print(\"confusion_matrix = \\n{}\\n\".format(confusion))\n",
    "\n",
    "error = (c21+c31+c12+c32+c13+c23)/(c21+c31+c12+c32+c13+c23+c11+c22+c33)\n",
    "print(\"error rate = {}\".format(error))"
   ]
  },
  {
   "cell_type": "markdown",
   "metadata": {},
   "source": [
    "# IMOX Dataset"
   ]
  },
  {
   "cell_type": "code",
   "execution_count": 224,
   "metadata": {
    "collapsed": false
   },
   "outputs": [],
   "source": [
    "columns = [\"a\", \"b\", \"c\", \"d\", \"e\", \"f\", \"g\", \"h\", \"class\"]\n",
    "data = pd.read_table('imox_data.txt', delim_whitespace=True, \\\n",
    "                     header=None, names=columns)"
   ]
  },
  {
   "cell_type": "markdown",
   "metadata": {},
   "source": [
    "## (a) PCA"
   ]
  },
  {
   "cell_type": "code",
   "execution_count": 401,
   "metadata": {
    "collapsed": false
   },
   "outputs": [
    {
     "name": "stdout",
     "output_type": "stream",
     "text": [
      "eigenvectors: \n",
      "[[ 0.01447815 -0.21534345]\n",
      " [-0.08829337 -0.40181854]\n",
      " [-0.16398584 -0.27405584]\n",
      " [-0.05035686 -0.00509032]\n",
      " [-0.34025534 -0.37641963]\n",
      " [-0.47580712 -0.50488797]\n",
      " [-0.55720747  0.39970198]\n",
      " [-0.55670568  0.4008382 ]]\n"
     ]
    },
    {
     "data": {
      "text/plain": [
       "<matplotlib.legend.Legend at 0x133bffa90>"
      ]
     },
     "execution_count": 401,
     "metadata": {},
     "output_type": "execute_result"
    },
    {
     "data": {
      "image/png": "[encoded data removed]",
      "text/plain": [
       "<matplotlib.figure.Figure at 0x133bffbe0>"
      ]
     },
     "metadata": {},
     "output_type": "display_data"
    }
   ],
   "source": [
    "df = data.drop(\"class\", axis=1)\n",
    "# center data\n",
    "df-=df.mean()\n",
    "w,v = np.linalg.eigh(df.cov()*191) #normalize by multiplying by n-1\n",
    "v2 = v.T[-2:]\n",
    "\n",
    "print(\"eigenvectors: \\n{}\".format(v2.T))\n",
    "\n",
    "col = v2.dot(np.array(df).T).T\n",
    "colclas = [('r', 'I'), ('g', 'M'), ('b', 'O'), ('y', 'X')]\n",
    "for i, (c, l) in zip(range(0, 192, 48), colclas):\n",
    "    x,y = zip(*col[i:i+48])\n",
    "    plt.scatter(x,y, c=c, label=l)\n",
    "    \n",
    "plt.legend(loc=4)"
   ]
  },
  {
   "cell_type": "markdown",
   "metadata": {},
   "source": [
    "## (b) MDA"
   ]
  },
  {
   "cell_type": "code",
   "execution_count": 398,
   "metadata": {
    "collapsed": false
   },
   "outputs": [
    {
     "name": "stdout",
     "output_type": "stream",
     "text": [
      "eigenvectors: \n",
      "[[ 0.0164636  -0.13698936]\n",
      " [-0.06858576 -0.27737427]\n",
      " [-0.0546345  -0.18905829]\n",
      " [-0.00256901 -0.00137855]\n",
      " [ 0.11993169 -0.5329115 ]\n",
      " [ 0.05007692 -0.75636344]\n",
      " [ 0.58741996 -0.02105779]\n",
      " [ 0.79377572  0.10967563]]\n"
     ]
    },
    {
     "data": {
      "text/plain": [
       "<matplotlib.legend.Legend at 0x13359add8>"
      ]
     },
     "execution_count": 398,
     "metadata": {},
     "output_type": "execute_result"
    },
    {
     "data": {
      "image/png": "[encoded data removed]",
      "text/plain": [
       "<matplotlib.figure.Figure at 0x13359a7b8>"
      ]
     },
     "metadata": {},
     "output_type": "display_data"
    }
   ],
   "source": [
    "iclass=data[data[\"class\"]==1].drop(\"class\", axis=1)\n",
    "mclass=data[data[\"class\"]==2].drop(\"class\", axis=1)\n",
    "oclass=data[data[\"class\"]==3].drop(\"class\", axis=1)\n",
    "xclass=data[data[\"class\"]==4].drop(\"class\", axis=1)\n",
    "\n",
    "# center data\n",
    "iclass-=iclass.mean()\n",
    "mclass-=mclass.mean()\n",
    "oclass-=oclass.mean()\n",
    "xclass-=xclass.mean()\n",
    "\n",
    "sw = 47*(iclass.cov()+mclass.cov()+oclass.cov()+xclass.cov()) #normalize by multiplying by n-1\n",
    "st = df.cov()*191\n",
    "sb = st-sw\n",
    "\n",
    "swinvsb = np.dot(np.linalg.inv(sw),sb)\n",
    "\n",
    "w,v = np.linalg.eigh(swinvsb)\n",
    "v2 = v.T[-2:]\n",
    "\n",
    "print(\"eigenvectors: \\n{}\".format(v2.T))\n",
    "\n",
    "col = v2.dot(np.array(df).T).T\n",
    "colclas = [('r', 'I'), ('g', 'M'), ('b', 'O'), ('y', 'X')]\n",
    "for i, (c, l) in zip(range(0, 192, 48), colclas):\n",
    "    x,y = zip(*col[i:i+48])\n",
    "    plt.scatter(x,y, c=c, label=l)\n",
    "    \n",
    "plt.legend(loc=4)"
   ]
  },
  {
   "cell_type": "markdown",
   "metadata": {},
   "source": [
    "Since MDA took into account the class of the point, it was able to keep the data more separate than PCA was. In both cases, with the top two eigenvectors, there was overlap between the I class and the X class. In PCA, there was some overlap between all of the classes in the center of the graph. In MDA, the classes were much more separated and the only classes that overlap are class I and class X, but less so than in PCA."
   ]
  }
 ],
 "metadata": {
  "anaconda-cloud": {},
  "kernelspec": {
   "display_name": "Python [Root]",
   "language": "python",
   "name": "Python [Root]"
  },
  "language_info": {
   "codemirror_mode": {
    "name": "ipython",
    "version": 3
   },
   "file_extension": ".py",
   "mimetype": "text/x-python",
   "name": "python",
   "nbconvert_exporter": "python",
   "pygments_lexer": "ipython3",
   "version": "3.5.2"
  },
  "latex_metadata": {
   "affiliation": "Stanford University",
   "author": "M H Goerz",
   "bib": "notebook.bib",
   "title": "An example notebook"
  }
 },
 "nbformat": 4,
 "nbformat_minor": 0
}
