{
 "cells": [
  {
   "cell_type": "code",
   "execution_count": 301,
   "metadata": {
    "collapsed": false
   },
   "outputs": [],
   "source": [
    "import matplotlib.pyplot as plt\n",
    "import scipy.stats\n",
    "import numpy as np\n",
    "import math\n",
    "%matplotlib inline"
   ]
  },
  {
   "cell_type": "markdown",
   "metadata": {},
   "source": [
    "# CSE 802 Homework 2\n",
    "Joe Freedman - A47774975 <br> 3/12/2018"
   ]
  },
  {
   "cell_type": "markdown",
   "metadata": {},
   "source": [
    "---\n",
    "# 1)"
   ]
  },
  {
   "cell_type": "code",
   "execution_count": 128,
   "metadata": {
    "collapsed": false
   },
   "outputs": [
    {
     "data": {
      "text/latex": [
       "$p(x)\\sim N(\\mu, \\Sigma)$ where $\\mu=(1,1,1)^{t}$ and $\\Sigma=\\begin{bmatrix}1&0&0\\\\0&5&2\\\\0&2&5\\end{bmatrix}$ $$$$\n",
       "$N(\\mu, \\Sigma)=\\frac{1}{(2\\pi)^{d/2}\\begin{vmatrix}\\Sigma\\end{vmatrix}^{1/2}}\n",
       "\\exp{[\\frac{-1}{2}(x-\\mu)^{t}\\Sigma^{-1}(x-\\mu)]}$ $$$$\n",
       "$=>p[(0,0,0)^{t}]=\\frac{1}{(2\\pi)^{3/2}\\begin{vmatrix}1&0&0\\\\0&5&2\\\\0&2&5\\end{vmatrix}^{1/2}}\n",
       "\\exp{\\Bigg[\\frac{-1}{2}\\begin{bmatrix}-1&-1&-1\\end{bmatrix}\\begin{bmatrix}1&0&0\\\\0&5&2\\\\0&2&5\\end{bmatrix}^{-1}\\begin{bmatrix}-1\\\\-1\\\\-1\\end{bmatrix}\\Bigg]}$ $$$$\n",
       "Plugged \"determinant[{{1, 0, 0}, {0, 5, 2}, {0, 2, 5}}]\" and \"transpose[{{-1}, {-1}, {-1}}]*inverse[{{1, 0, 0}, {0, 5, 2}, {0, 2, 5}}]*{{-1}, {-1}, {-1}}\" into wolframalpha $$$$\n",
       "$=>p[(0,0,0)^{t}]=\\frac{1}{(2\\pi)^{3/2}21^{1/2}}\\exp{[\\frac{-1}{2}*\\frac{9}{7}]}$ $$$$\n",
       "Plugged \"1/((2pi)^(3/2)*21^(1/2))e^(-1/2*9/7)\" into wolframalpha $$$$\n",
       "$=>p[(0,0,0)^{t}]\\approx0.007285$"
      ],
      "text/plain": [
       "<IPython.core.display.Latex object>"
      ]
     },
     "metadata": {},
     "output_type": "display_data"
    }
   ],
   "source": [
    "%%latex\n",
    "$p(x)\\sim N(\\mu, \\Sigma)$ where $\\mu=(1,1,1)^{t}$ and $\\Sigma=\\begin{bmatrix}1&0&0\\\\0&5&2\\\\0&2&5\\end{bmatrix}$ $$$$\n",
    "$N(\\mu, \\Sigma)=\\frac{1}{(2\\pi)^{d/2}\\begin{vmatrix}\\Sigma\\end{vmatrix}^{1/2}}\n",
    "\\exp{[\\frac{-1}{2}(x-\\mu)^{t}\\Sigma^{-1}(x-\\mu)]}$ $$$$\n",
    "$=>p[(0,0,0)^{t}]=\\frac{1}{(2\\pi)^{3/2}\\begin{vmatrix}1&0&0\\\\0&5&2\\\\0&2&5\\end{vmatrix}^{1/2}}\n",
    "\\exp{\\Bigg[\\frac{-1}{2}\\begin{bmatrix}-1&-1&-1\\end{bmatrix}\\begin{bmatrix}1&0&0\\\\0&5&2\\\\0&2&5\\end{bmatrix}^{-1}\\begin{bmatrix}-1\\\\-1\\\\-1\\end{bmatrix}\\Bigg]}$ $$$$\n",
    "Plugged \"determinant[{{1, 0, 0}, {0, 5, 2}, {0, 2, 5}}]\" and \"transpose[{{-1}, {-1}, {-1}}]*inverse[{{1, 0, 0}, {0, 5, 2}, {0, 2, 5}}]*{{-1}, {-1}, {-1}}\" into wolframalpha $$$$\n",
    "$=>p[(0,0,0)^{t}]=\\frac{1}{(2\\pi)^{3/2}21^{1/2}}\\exp{[\\frac{-1}{2}*\\frac{9}{7}]}$ $$$$\n",
    "Plugged \"1/((2pi)^(3/2)*21^(1/2))e^(-1/2*9/7)\" into wolframalpha $$$$\n",
    "$=>p[(0,0,0)^{t}]\\approx0.007285$"
   ]
  },
  {
   "cell_type": "markdown",
   "metadata": {},
   "source": [
    "---\n",
    "# 2)"
   ]
  },
  {
   "cell_type": "code",
   "execution_count": 70,
   "metadata": {
    "collapsed": false
   },
   "outputs": [
    {
     "data": {
      "text/latex": [
       "$p(x\\mid\\omega_{1})\\sim N(0, \\sigma^{2}) = \\frac{1}{\\sqrt{2\\pi\\sigma^2}}\\exp[{\\frac{-1}{2}(\\frac{x}{\\sigma})^2}]$ $$$$\n",
       "$p(x\\mid\\omega_{2})\\sim N(1, \\sigma^{2}) = \\frac{1}{\\sqrt{2\\pi\\sigma^2}}\\exp[{\\frac{-1}{2}(\\frac{x-1}{\\sigma})^2}]$ $$$$\n",
       "Minimum Risk will set $R(\\alpha_{1}\\mid x) = R(\\alpha_{2}\\mid x)$ and solve for $x$ which will be threshold $\\tau$ $$$$\n",
       "$R(\\alpha_{1}\\mid x) = \\lambda_{11}p(\\omega_{1}\\mid x) + \\lambda_{12}p(\\omega_{2}\\mid x)$ $$$$\n",
       "$R(\\alpha_{2}\\mid x) = \\lambda_{21}p(\\omega_{1}\\mid x) + \\lambda_{22}p(\\omega_{2}\\mid x)$ $$$$\n",
       "It is assumed that $\\lambda_{11} = \\lambda_{22} = 0$, therefore $$$$\n",
       "$R(\\alpha_{1}\\mid x) = \\lambda_{12}p(\\omega_{2}\\mid x)$ $$$$\n",
       "$R(\\alpha_{2}\\mid x) = \\lambda_{21}p(\\omega_{1}\\mid x)$ $$$$\n",
       "By bayes rule $$$$\n",
       "$p(\\omega_{1}\\mid x) = \\frac{p(x\\mid\\omega_{1})p(\\omega_{1})}{p(x)}$ $$$$\n",
       "$p(\\omega_{2}\\mid x) = \\frac{p(x\\mid\\omega_{2})p(\\omega_{2})}{p(x)}$ $$$$\n",
       "So $R(\\alpha_{1}\\mid x) = R(\\alpha_{2}\\mid x)$ becomes $$$$\n",
       "$\\lambda_{12}\\frac{p(x\\mid\\omega_{2})p(\\omega_{2})}{p(x)} = \\lambda_{21}\\frac{p(x\\mid\\omega_{1})p(\\omega_{1})}{p(x)}$ $$$$\n",
       "$=>\\lambda_{12}p(\\omega_{2})\\frac{1}{\\sqrt{2\\pi\\sigma^2}}\\exp[{\\frac{-1}{2}(\\frac{x-1}{\\sigma})^2}] \n",
       "=\\lambda_{21}p(\\omega_{1})\\frac{1}{\\sqrt{2\\pi\\sigma^2}}\\exp[{\\frac{-1}{2}(\\frac{x}{\\sigma})^2}]$ $$$$\n",
       "$=>\\lambda_{12}p(\\omega_{2})\\exp[{\\frac{-1}{2}(\\frac{x-1}{\\sigma})^2}] \n",
       "=\\lambda_{21}p(\\omega_{1})\\exp[{\\frac{-1}{2}(\\frac{x}{\\sigma})^2}]$ $$$$\n",
       "$=>ln(\\lambda_{12}p(\\omega_{2})\\exp[{\\frac{-1}{2}(\\frac{x-1}{\\sigma})^2}]) \n",
       "=ln(\\lambda_{21}p(\\omega_{1})\\exp[{\\frac{-1}{2}(\\frac{x}{\\sigma})^2}])$ $$$$\n",
       "$=>ln(\\lambda_{12}p(\\omega_{2}))-\\frac{1}{2}(\\frac{x-1}{\\sigma})^2 \n",
       "=ln(\\lambda_{21}p(\\omega_{1}))-\\frac{1}{2}(\\frac{x}{\\sigma})^2$ $$$$\n",
       "$=>\\frac{1}{2}(\\frac{x}{\\sigma})^2-\\frac{1}{2}(\\frac{x-1}{\\sigma})^2 \n",
       "=ln(\\lambda_{21}p(\\omega_{1}))-ln(\\lambda_{12}p(\\omega_{2}))$ $$$$\n",
       "$=>\\frac{-x+\\frac{1}{2}}{\\sigma^2}\n",
       "=ln(\\frac{\\lambda_{21}p(\\omega_{1})}{\\lambda_{12}p(\\omega_{2})})$ $$$$\n",
       "$=>-x=\\frac{-1}{2}+\\sigma^2ln(\\frac{\\lambda_{21}p(\\omega_{1})}{\\lambda_{12}p(\\omega_{2})})$ $$$$\n",
       "$=>x=\\frac{1}{2}-\\sigma^2ln(\\frac{\\lambda_{12}p(\\omega_{2})}{\\lambda_{21}p(\\omega_{1})})$ $$$$\n",
       "$=>\\tau=\\frac{1}{2}-\\sigma^2ln(\\frac{\\lambda_{12}p(\\omega_{2})}{\\lambda_{21}p(\\omega_{1})})$ $$$$"
      ],
      "text/plain": [
       "<IPython.core.display.Latex object>"
      ]
     },
     "metadata": {},
     "output_type": "display_data"
    }
   ],
   "source": [
    "%%latex\n",
    "$p(x\\mid\\omega_{1})\\sim N(0, \\sigma^{2}) = \\frac{1}{\\sqrt{2\\pi\\sigma^2}}\\exp[{\\frac{-1}{2}(\\frac{x}{\\sigma})^2}]$ $$$$\n",
    "$p(x\\mid\\omega_{2})\\sim N(1, \\sigma^{2}) = \\frac{1}{\\sqrt{2\\pi\\sigma^2}}\\exp[{\\frac{-1}{2}(\\frac{x-1}{\\sigma})^2}]$ $$$$\n",
    "Minimum Risk will set $R(\\alpha_{1}\\mid x) = R(\\alpha_{2}\\mid x)$ and solve for $x$ which will be threshold $\\tau$ $$$$\n",
    "$R(\\alpha_{1}\\mid x) = \\lambda_{11}p(\\omega_{1}\\mid x) + \\lambda_{12}p(\\omega_{2}\\mid x)$ $$$$\n",
    "$R(\\alpha_{2}\\mid x) = \\lambda_{21}p(\\omega_{1}\\mid x) + \\lambda_{22}p(\\omega_{2}\\mid x)$ $$$$\n",
    "It is assumed that $\\lambda_{11} = \\lambda_{22} = 0$, therefore $$$$\n",
    "$R(\\alpha_{1}\\mid x) = \\lambda_{12}p(\\omega_{2}\\mid x)$ $$$$\n",
    "$R(\\alpha_{2}\\mid x) = \\lambda_{21}p(\\omega_{1}\\mid x)$ $$$$\n",
    "By bayes rule $$$$\n",
    "$p(\\omega_{1}\\mid x) = \\frac{p(x\\mid\\omega_{1})p(\\omega_{1})}{p(x)}$ $$$$\n",
    "$p(\\omega_{2}\\mid x) = \\frac{p(x\\mid\\omega_{2})p(\\omega_{2})}{p(x)}$ $$$$\n",
    "So $R(\\alpha_{1}\\mid x) = R(\\alpha_{2}\\mid x)$ becomes $$$$\n",
    "$\\lambda_{12}\\frac{p(x\\mid\\omega_{2})p(\\omega_{2})}{p(x)} = \\lambda_{21}\\frac{p(x\\mid\\omega_{1})p(\\omega_{1})}{p(x)}$ $$$$\n",
    "$=>\\lambda_{12}p(\\omega_{2})\\frac{1}{\\sqrt{2\\pi\\sigma^2}}\\exp[{\\frac{-1}{2}(\\frac{x-1}{\\sigma})^2}] \n",
    "=\\lambda_{21}p(\\omega_{1})\\frac{1}{\\sqrt{2\\pi\\sigma^2}}\\exp[{\\frac{-1}{2}(\\frac{x}{\\sigma})^2}]$ $$$$\n",
    "$=>\\lambda_{12}p(\\omega_{2})\\exp[{\\frac{-1}{2}(\\frac{x-1}{\\sigma})^2}] \n",
    "=\\lambda_{21}p(\\omega_{1})\\exp[{\\frac{-1}{2}(\\frac{x}{\\sigma})^2}]$ $$$$\n",
    "$=>ln(\\lambda_{12}p(\\omega_{2})\\exp[{\\frac{-1}{2}(\\frac{x-1}{\\sigma})^2}]) \n",
    "=ln(\\lambda_{21}p(\\omega_{1})\\exp[{\\frac{-1}{2}(\\frac{x}{\\sigma})^2}])$ $$$$\n",
    "$=>ln(\\lambda_{12}p(\\omega_{2}))-\\frac{1}{2}(\\frac{x-1}{\\sigma})^2 \n",
    "=ln(\\lambda_{21}p(\\omega_{1}))-\\frac{1}{2}(\\frac{x}{\\sigma})^2$ $$$$\n",
    "$=>\\frac{1}{2}(\\frac{x}{\\sigma})^2-\\frac{1}{2}(\\frac{x-1}{\\sigma})^2 \n",
    "=ln(\\lambda_{21}p(\\omega_{1}))-ln(\\lambda_{12}p(\\omega_{2}))$ $$$$\n",
    "$=>\\frac{-x+\\frac{1}{2}}{\\sigma^2}\n",
    "=ln(\\frac{\\lambda_{21}p(\\omega_{1})}{\\lambda_{12}p(\\omega_{2})})$ $$$$\n",
    "$=>-x=\\frac{-1}{2}+\\sigma^2ln(\\frac{\\lambda_{21}p(\\omega_{1})}{\\lambda_{12}p(\\omega_{2})})$ $$$$\n",
    "$=>x=\\frac{1}{2}-\\sigma^2ln(\\frac{\\lambda_{12}p(\\omega_{2})}{\\lambda_{21}p(\\omega_{1})})$ $$$$\n",
    "$=>\\tau=\\frac{1}{2}-\\sigma^2ln(\\frac{\\lambda_{12}p(\\omega_{2})}{\\lambda_{21}p(\\omega_{1})})$ $$$$"
   ]
  },
  {
   "cell_type": "markdown",
   "metadata": {},
   "source": [
    "---\n",
    "# 3)"
   ]
  },
  {
   "cell_type": "markdown",
   "metadata": {},
   "source": [
    "### a) Minimum Risk Rule"
   ]
  },
  {
   "cell_type": "code",
   "execution_count": 125,
   "metadata": {
    "collapsed": false
   },
   "outputs": [
    {
     "data": {
      "text/latex": [
       "Minimum risk rule says $R(\\alpha_{i}\\mid x) = \\Sigma_{j=1}^{c}\\lambda(\\alpha_{i}\\mid\\omega_{j})p(\\omega_{j}\\mid x)$ $$$$\n",
       "$\\lambda_{ij} = 0$ when $i=j$, so all $\\lambda$ left are when $i\\neq j$ => $\\lambda(\\alpha_{i}\\mid\\omega_{j}) = \\lambda_{s}$ $$$$\n",
       "So, new minimum risk rule is $R(\\alpha_{i}\\mid x) = \\lambda_{s}\\Sigma_{j=1}^{c}p(\\omega_{j}\\mid x)$ $$$$\n",
       "Because $i\\neq j$, $\\Sigma_{j=1}^{c}p(\\omega_{j}\\mid x) = 1-p(\\omega_{i}\\mid x)$ $$$$\n",
       "$=> R(\\alpha_{i}\\mid x) = \\lambda_{s}[1-p(\\omega_{i}\\mid x)]$ $$$$\n",
       "We also know $R(\\alpha_{c+1}\\mid x) = \\lambda_{r}$, therefore our rule is $$$$\n",
       "Assign $x$ to $\\omega_{1}$ if $R(\\alpha_{i}\\mid x) \\le R(\\alpha_{j}\\mid x)$ AND $R(\\alpha_{i}\\mid x) \\le R(\\alpha_{c+1}\\mid x)$ else reject$$$$\n",
       "$=> \\lambda_{s}[1-p(\\omega_{i}\\mid x)] \\le \\lambda_{s}[1-p(\\omega_{j}\\mid x)]$ AND $\\lambda_{s}[1-p(\\omega_{i}\\mid x)] \\le \\lambda_{r}$ $$$$\n",
       "$=> p(\\omega_{i}\\mid x) \\ge p(\\omega_{j}\\mid x)$ AND $1-p(\\omega_{i}\\mid x) \\le \\frac{\\lambda_{r}}{\\lambda_{s}}$ $$$$\n",
       "$=> p(\\omega_{i}\\mid x) \\ge p(\\omega_{j}\\mid x)$ AND $p(\\omega_{i}\\mid x) \\ge 1-\\frac{\\lambda_{r}}{\\lambda_{s}}$ $$$$"
      ],
      "text/plain": [
       "<IPython.core.display.Latex object>"
      ]
     },
     "metadata": {},
     "output_type": "display_data"
    }
   ],
   "source": [
    "%%latex\n",
    "Minimum risk rule says $R(\\alpha_{i}\\mid x) = \\Sigma_{j=1}^{c}\\lambda(\\alpha_{i}\\mid\\omega_{j})p(\\omega_{j}\\mid x)$ $$$$\n",
    "$\\lambda_{ij} = 0$ when $i=j$, so all $\\lambda$ left are when $i\\neq j$ => $\\lambda(\\alpha_{i}\\mid\\omega_{j}) = \\lambda_{s}$ $$$$\n",
    "So, new minimum risk rule is $R(\\alpha_{i}\\mid x) = \\lambda_{s}\\Sigma_{j=1}^{c}p(\\omega_{j}\\mid x)$ $$$$\n",
    "Because $i\\neq j$, $\\Sigma_{j=1}^{c}p(\\omega_{j}\\mid x) = 1-p(\\omega_{i}\\mid x)$ $$$$\n",
    "$=> R(\\alpha_{i}\\mid x) = \\lambda_{s}[1-p(\\omega_{i}\\mid x)]$ $$$$\n",
    "We also know $R(\\alpha_{c+1}\\mid x) = \\lambda_{r}$, therefore our rule is $$$$\n",
    "Assign $x$ to $\\omega_{1}$ if $R(\\alpha_{i}\\mid x) \\le R(\\alpha_{j}\\mid x)$ AND $R(\\alpha_{i}\\mid x) \\le R(\\alpha_{c+1}\\mid x)$ else reject$$$$\n",
    "$=> \\lambda_{s}[1-p(\\omega_{i}\\mid x)] \\le \\lambda_{s}[1-p(\\omega_{j}\\mid x)]$ AND $\\lambda_{s}[1-p(\\omega_{i}\\mid x)] \\le \\lambda_{r}$ $$$$\n",
    "$=> p(\\omega_{i}\\mid x) \\ge p(\\omega_{j}\\mid x)$ AND $1-p(\\omega_{i}\\mid x) \\le \\frac{\\lambda_{r}}{\\lambda_{s}}$ $$$$\n",
    "$=> p(\\omega_{i}\\mid x) \\ge p(\\omega_{j}\\mid x)$ AND $p(\\omega_{i}\\mid x) \\ge 1-\\frac{\\lambda_{r}}{\\lambda_{s}}$ $$$$"
   ]
  },
  {
   "cell_type": "markdown",
   "metadata": {},
   "source": [
    "### b) Special Cases"
   ]
  },
  {
   "cell_type": "code",
   "execution_count": 131,
   "metadata": {
    "collapsed": false
   },
   "outputs": [
    {
     "data": {
      "text/latex": [
       "When $\\lambda_{r} = 0$, we will always reject because $\\lambda_{r}$ will always be less than misclassification risk $\\lambda_{s}$ $$$$\n",
       "When $\\lambda_{r} > \\lambda_{s}$, we will never reject because $\\lambda_{r}$ will never be less than misclassification risk $\\lambda_{s}$ $$$$"
      ],
      "text/plain": [
       "<IPython.core.display.Latex object>"
      ]
     },
     "metadata": {},
     "output_type": "display_data"
    }
   ],
   "source": [
    "%%latex\n",
    "When $\\lambda_{r} = 0$, we will always reject because $\\lambda_{r}$ will always be less than misclassification risk $\\lambda_{s}$ $$$$\n",
    "When $\\lambda_{r} > \\lambda_{s}$, we will never reject because $\\lambda_{r}$ will never be less than misclassification risk $\\lambda_{s}$ $$$$"
   ]
  },
  {
   "cell_type": "markdown",
   "metadata": {},
   "source": [
    "---\n",
    "# 4)"
   ]
  },
  {
   "cell_type": "code",
   "execution_count": 148,
   "metadata": {
    "collapsed": false
   },
   "outputs": [
    {
     "data": {
      "text/latex": [
       "$\\mu=\\begin{bmatrix}\\mu_{1}\\\\\\mu_{2}\\end{bmatrix}; x=\\begin{bmatrix}x_{1}\\\\x_{2}\\end{bmatrix};\n",
       "\\Sigma=\\begin{bmatrix}\\sigma_{1}^2&\\sigma_{12}\\\\\\sigma_{21}&\\sigma_{2}^2\\end{bmatrix};\\sigma_{12}=\\sigma_{21}=A$ $$$$"
      ],
      "text/plain": [
       "<IPython.core.display.Latex object>"
      ]
     },
     "metadata": {},
     "output_type": "display_data"
    }
   ],
   "source": [
    "%%latex\n",
    "$\\mu=\\begin{bmatrix}\\mu_{1}\\\\\\mu_{2}\\end{bmatrix}; x=\\begin{bmatrix}x_{1}\\\\x_{2}\\end{bmatrix};\n",
    "\\Sigma=\\begin{bmatrix}\\sigma_{1}^2&\\sigma_{12}\\\\\\sigma_{21}&\\sigma_{2}^2\\end{bmatrix};\\sigma_{12}=\\sigma_{21}=A$ $$$$"
   ]
  },
  {
   "cell_type": "markdown",
   "metadata": {},
   "source": [
    "### a) Euclidean distance"
   ]
  },
  {
   "cell_type": "code",
   "execution_count": 149,
   "metadata": {
    "collapsed": false
   },
   "outputs": [
    {
     "data": {
      "text/latex": [
       "$D=\\sqrt{(\\mu_{1}-x_{1})^2+(\\mu_{2}-x_{2})^2}$ $$$$\n",
       "$=>\\sqrt{x_{1}^2-2\\mu_{1}x_{1}+\\mu_{1}^2+x_{2}^2-2\\mu_{2}x_{2}+\\mu_{2}^2}$ $$$$"
      ],
      "text/plain": [
       "<IPython.core.display.Latex object>"
      ]
     },
     "metadata": {},
     "output_type": "display_data"
    }
   ],
   "source": [
    "%%latex\n",
    "$D=\\sqrt{(\\mu_{1}-x_{1})^2+(\\mu_{2}-x_{2})^2}$ $$$$\n",
    "$=>\\sqrt{x_{1}^2-2\\mu_{1}x_{1}+\\mu_{1}^2+x_{2}^2-2\\mu_{2}x_{2}+\\mu_{2}^2}$ $$$$"
   ]
  },
  {
   "cell_type": "markdown",
   "metadata": {},
   "source": [
    "### b) Mahalanobis distance"
   ]
  },
  {
   "cell_type": "code",
   "execution_count": 177,
   "metadata": {
    "collapsed": false
   },
   "outputs": [
    {
     "data": {
      "text/latex": [
       "$D=\\sqrt{(x-\\mu)^t\\Sigma^{-1}(x-\\mu)}$ $$$$\n",
       "$=>\\sqrt{\\begin{bmatrix}x_{1}-\\mu_{1}&x_{2}-\\mu_{2}\\end{bmatrix}\n",
       "\\frac{1}{\\sigma_{1}^2\\sigma_{2}^2-A}\\begin{bmatrix}\\sigma_{2}^2&-\\sigma_{12}\\\\-\\sigma_{21}&\\sigma_{1}^2\\end{bmatrix}\n",
       "\\begin{bmatrix}x_{1}-\\mu_{1}\\\\x_{2}-\\mu_{2}\\end{bmatrix}}$ $$$$\n",
       "$=>\\sqrt{\\frac{1}{\\sigma_{1}^2\\sigma_{2}^2-A}}\\sqrt{\n",
       "\\begin{bmatrix}x_{1}-\\mu_{1}&x_{2}-\\mu_{2}\\end{bmatrix}\n",
       "\\begin{bmatrix}\\sigma_{2}^2&-\\sigma_{12}\\\\-\\sigma_{21}&\\sigma_{1}^2\\end{bmatrix}\n",
       "\\begin{bmatrix}x_{1}-\\mu_{1}\\\\x_{2}-\\mu_{2}\\end{bmatrix}}$ $$$$\n",
       "$=>\\sqrt{\\frac{1}{\\sigma_{1}^2\\sigma_{2}^2-A}}\\sqrt{\n",
       "\\begin{bmatrix}\\sigma_{2}^2(x_{1}-\\mu_{1})-\\sigma_{21}(x_{2}-\\mu_{2})&\n",
       "-\\sigma_{12}(x_{1}-\\mu_{1})+\\sigma_{1}^2(x_{2}-\\mu_{2})\\end{bmatrix}\n",
       "\\begin{bmatrix}x_{1}-\\mu_{1}\\\\x_{2}-\\mu_{2}\\end{bmatrix}}$ $$$$\n",
       "$=>\\sqrt{\\frac{1}{\\sigma_{1}^2\\sigma_{2}^2-A}}\\sqrt{\n",
       "\\sigma_{2}^2(x_{1}-\\mu_{1})^2-\\sigma_{21}(x_{1}-\\mu_{1})(x_{2}-\\mu_{2})\n",
       "-\\sigma_{12}(x_{1}-\\mu_{1})(x_{2}-\\mu_{2})+\\sigma_{1}^2(x_{2}-\\mu_{2})^2}$ $$$$\n",
       "$=>\\sqrt{\\frac{1}{\\sigma_{1}^2\\sigma_{2}^2-A}}\\sqrt{\n",
       "\\sigma_{2}^2(x_{1}^2-2\\mu_{1}x_{1}+\\mu_{1}^2)-2A(x_{1}-\\mu_{1})(x_{2}-\\mu_{2})\n",
       "+\\sigma_{1}^2(x_{2}^2-2\\mu_{2}x_{2}+\\mu_{2}^2)}$ $$$$"
      ],
      "text/plain": [
       "<IPython.core.display.Latex object>"
      ]
     },
     "metadata": {},
     "output_type": "display_data"
    }
   ],
   "source": [
    "%%latex\n",
    "$D=\\sqrt{(x-\\mu)^t\\Sigma^{-1}(x-\\mu)}$ $$$$\n",
    "$=>\\sqrt{\\begin{bmatrix}x_{1}-\\mu_{1}&x_{2}-\\mu_{2}\\end{bmatrix}\n",
    "\\frac{1}{\\sigma_{1}^2\\sigma_{2}^2-A}\\begin{bmatrix}\\sigma_{2}^2&-\\sigma_{12}\\\\-\\sigma_{21}&\\sigma_{1}^2\\end{bmatrix}\n",
    "\\begin{bmatrix}x_{1}-\\mu_{1}\\\\x_{2}-\\mu_{2}\\end{bmatrix}}$ $$$$\n",
    "$=>\\sqrt{\\frac{1}{\\sigma_{1}^2\\sigma_{2}^2-A}}\\sqrt{\n",
    "\\begin{bmatrix}x_{1}-\\mu_{1}&x_{2}-\\mu_{2}\\end{bmatrix}\n",
    "\\begin{bmatrix}\\sigma_{2}^2&-\\sigma_{12}\\\\-\\sigma_{21}&\\sigma_{1}^2\\end{bmatrix}\n",
    "\\begin{bmatrix}x_{1}-\\mu_{1}\\\\x_{2}-\\mu_{2}\\end{bmatrix}}$ $$$$\n",
    "$=>\\sqrt{\\frac{1}{\\sigma_{1}^2\\sigma_{2}^2-A}}\\sqrt{\n",
    "\\begin{bmatrix}\\sigma_{2}^2(x_{1}-\\mu_{1})-\\sigma_{21}(x_{2}-\\mu_{2})&\n",
    "-\\sigma_{12}(x_{1}-\\mu_{1})+\\sigma_{1}^2(x_{2}-\\mu_{2})\\end{bmatrix}\n",
    "\\begin{bmatrix}x_{1}-\\mu_{1}\\\\x_{2}-\\mu_{2}\\end{bmatrix}}$ $$$$\n",
    "$=>\\sqrt{\\frac{1}{\\sigma_{1}^2\\sigma_{2}^2-A}}\\sqrt{\n",
    "\\sigma_{2}^2(x_{1}-\\mu_{1})^2-\\sigma_{21}(x_{1}-\\mu_{1})(x_{2}-\\mu_{2})\n",
    "-\\sigma_{12}(x_{1}-\\mu_{1})(x_{2}-\\mu_{2})+\\sigma_{1}^2(x_{2}-\\mu_{2})^2}$ $$$$\n",
    "$=>\\sqrt{\\frac{1}{\\sigma_{1}^2\\sigma_{2}^2-A}}\\sqrt{\n",
    "\\sigma_{2}^2(x_{1}^2-2\\mu_{1}x_{1}+\\mu_{1}^2)-2A(x_{1}-\\mu_{1})(x_{2}-\\mu_{2})\n",
    "+\\sigma_{1}^2(x_{2}^2-2\\mu_{2}x_{2}+\\mu_{2}^2)}$ $$$$"
   ]
  },
  {
   "cell_type": "markdown",
   "metadata": {},
   "source": [
    "### c) Comparison"
   ]
  },
  {
   "cell_type": "code",
   "execution_count": 182,
   "metadata": {
    "collapsed": false
   },
   "outputs": [
    {
     "data": {
      "text/latex": [
       "Mahalanobis distance differs from Euclidean distance because in addition to taking into account the distance between the points in the feature space, it also takes the covariance matrix into account and how the features effect one another. The distances are equal when $\\sigma_{1}^2=\\sigma_{2}^2=1$ and $\\sigma_{12}=\\sigma_{21}=A=0$, which would mean that $\\Sigma=I=\\begin{bmatrix}1&0\\\\0&1\\end{bmatrix}$. It is more appropriate to use the Mahalanobis distance when the features are not independent of one another and the covariance values are greater than 0. The Mahalanobis distance takes this covariance value into account when calculating distance.$$$$"
      ],
      "text/plain": [
       "<IPython.core.display.Latex object>"
      ]
     },
     "metadata": {},
     "output_type": "display_data"
    }
   ],
   "source": [
    "%%latex\n",
    "Mahalanobis distance differs from Euclidean distance because in addition to taking into account the distance between the points in the feature space, it also takes the covariance matrix into account and how the features effect one another. The distances are equal when $\\sigma_{1}^2=\\sigma_{2}^2=1$ and $\\sigma_{12}=\\sigma_{21}=A=0$, which would mean that $\\Sigma=I=\\begin{bmatrix}1&0\\\\0&1\\end{bmatrix}$. It is more appropriate to use the Mahalanobis distance when the features are not independent of one another and the covariance values are greater than 0. The Mahalanobis distance takes this covariance value into account when calculating distance.$$$$"
   ]
  },
  {
   "cell_type": "markdown",
   "metadata": {},
   "source": [
    "---\n",
    "# 5)"
   ]
  },
  {
   "cell_type": "markdown",
   "metadata": {},
   "source": [
    "### a) Plotting Means"
   ]
  },
  {
   "cell_type": "code",
   "execution_count": 198,
   "metadata": {
    "collapsed": false
   },
   "outputs": [
    {
     "data": {
      "image/png": "[encoded data removed]",
      "text/plain": [
       "<matplotlib.figure.Figure at 0x118385be0>"
      ]
     },
     "metadata": {},
     "output_type": "display_data"
    }
   ],
   "source": [
    "#Code from https://stackoverflow.com/questions/14432557/matplotlib-scatter-plot-with-different-text-at-each-data-point\n",
    "pts=[-0.5, 0, 1, 0.3, 0.5]\n",
    "n=[\"w3(1) mean\", \"w1 mean\", \"w2 mean\", \"(0.3, 0.3)\", \"w3(2) mean\"]\n",
    "\n",
    "fig, ax = plt.subplots()\n",
    "ax.scatter(pts, pts)\n",
    "plt.xlabel(\"x1\")\n",
    "plt.ylabel(\"x2\")\n",
    "\n",
    "for i, txt in enumerate(n):\n",
    "    ax.annotate(txt, (pts[i],pts[i]))"
   ]
  },
  {
   "cell_type": "markdown",
   "metadata": {},
   "source": [
    "### b) Assigning a class\n",
    "Assuming 0-1 loss, we can plug in x to each PDF and assign x to whichever class PDF value is greatest"
   ]
  },
  {
   "cell_type": "code",
   "execution_count": 227,
   "metadata": {
    "collapsed": false
   },
   "outputs": [
    {
     "name": "stdout",
     "output_type": "stream",
     "text": [
      "P(x given w1) = 0.1454566657817508\n",
      "P(x given w2) = 0.09750251890301381\n",
      "P(x given w3) = 0.1184177921264705\n",
      "\n",
      "Therefore, x will be assigned to w1, since max(P(x given w1), P(x given w1), P(x given w1)) = P(x given w1) = 0.1454566657817508\n"
     ]
    }
   ],
   "source": [
    "x = np.array([0.3,0.3])\n",
    "\n",
    "mu1 = np.array([0,0])\n",
    "mu2 = np.array([1,1])\n",
    "mu3_1 = np.array([-0.5,-0.5])\n",
    "mu3_2 = np.array([0.5,0.5])\n",
    "\n",
    "# cov defaults to Identity matrix\n",
    "p1 = scipy.stats.multivariate_normal(mean=mu1).pdf(x)\n",
    "p2 = scipy.stats.multivariate_normal(mean=mu2).pdf(x)\n",
    "p3 = 0.5*scipy.stats.multivariate_normal(mean=mu3_1).pdf(x)+0.5*scipy.stats.multivariate_normal(mean=mu3_2).pdf(x)\n",
    "\n",
    "print(\"P(x given w1) = {}\".format(p1))\n",
    "print(\"P(x given w2) = {}\".format(p2))\n",
    "print(\"P(x given w3) = {}\".format(p3))\n",
    "print()\n",
    "print(\"Therefore, x will be assigned to w1, since max(P(x given w1), P(x given w1), P(x given w1)) = P(x given w1) = {}\".format(p1))"
   ]
  },
  {
   "cell_type": "markdown",
   "metadata": {},
   "source": [
    "---\n",
    "# 6)"
   ]
  },
  {
   "cell_type": "markdown",
   "metadata": {},
   "source": [
    "### a) Whitening transform of x"
   ]
  },
  {
   "cell_type": "code",
   "execution_count": 243,
   "metadata": {
    "collapsed": false
   },
   "outputs": [
    {
     "data": {
      "text/latex": [
       "$p(x)\\sim N\\bigg(\\begin{bmatrix}0\\\\0\\end{bmatrix},\\begin{bmatrix}25&10\\\\10&15\\end{bmatrix}\\bigg)$"
      ],
      "text/plain": [
       "<IPython.core.display.Latex object>"
      ]
     },
     "metadata": {},
     "output_type": "display_data"
    }
   ],
   "source": [
    "%%latex\n",
    "$p(x)\\sim N\\bigg(\\begin{bmatrix}0\\\\0\\end{bmatrix},\\begin{bmatrix}25&10\\\\10&15\\end{bmatrix}\\bigg)$"
   ]
  },
  {
   "cell_type": "code",
   "execution_count": 270,
   "metadata": {
    "collapsed": false
   },
   "outputs": [
    {
     "name": "stdout",
     "output_type": "stream",
     "text": [
      "Whitening transform of x = \n",
      "[[ 0.15233893 -0.17702628]\n",
      " [ 0.09415064  0.28643455]]\n"
     ]
    }
   ],
   "source": [
    "mu = np.array([0,0])\n",
    "sigma = np.array([[25, 10],[10, 15]])\n",
    "\n",
    "delta, phi = np.linalg.eig(sigma)\n",
    "Aw = phi*(delta**(-1/2))\n",
    "print(\"Whitening transform of x = \\n{}\".format(Aw))"
   ]
  },
  {
   "cell_type": "markdown",
   "metadata": {},
   "source": [
    "### b) Random Patterns Plot"
   ]
  },
  {
   "cell_type": "code",
   "execution_count": 266,
   "metadata": {
    "collapsed": false
   },
   "outputs": [
    {
     "data": {
      "text/plain": [
       "<matplotlib.collections.PathCollection at 0x12e247940>"
      ]
     },
     "execution_count": 266,
     "metadata": {},
     "output_type": "execute_result"
    },
    {
     "data": {
      "image/png": "[encoded data removed]",
      "text/plain": [
       "<matplotlib.figure.Figure at 0x12e026630>"
      ]
     },
     "metadata": {},
     "output_type": "display_data"
    }
   ],
   "source": [
    "rnd = np.random.multivariate_normal(mu, sigma, 10000)\n",
    "x = [pair[0] for pair in rnd]\n",
    "y = [pair[1] for pair in rnd]\n",
    "\n",
    "plt.scatter(x,y)"
   ]
  },
  {
   "cell_type": "markdown",
   "metadata": {},
   "source": [
    "### c) Whitening Transform Density Function"
   ]
  },
  {
   "cell_type": "code",
   "execution_count": 291,
   "metadata": {
    "collapsed": false
   },
   "outputs": [
    {
     "data": {
      "text/latex": [
       "$p(x)\\sim N(A_{w}^t\\mu,I) =>$ $$$$\n",
       "$p(x)\\sim N\\bigg(\\begin{bmatrix}0.152&-0.177\\\\0.094&0.286\\end{bmatrix}^t\\begin{bmatrix}0\\\\0\\end{bmatrix},\n",
       "                 \\begin{bmatrix}1&0\\\\0&1\\end{bmatrix}\\bigg)$"
      ],
      "text/plain": [
       "<IPython.core.display.Latex object>"
      ]
     },
     "metadata": {},
     "output_type": "display_data"
    }
   ],
   "source": [
    "%%latex\n",
    "$p(x)\\sim N(A_{w}^t\\mu,I) =>$ $$$$\n",
    "$p(x)\\sim N\\bigg(\\begin{bmatrix}0.152&-0.177\\\\0.094&0.286\\end{bmatrix}^t\\begin{bmatrix}0\\\\0\\end{bmatrix},\n",
    "                 \\begin{bmatrix}1&0\\\\0&1\\end{bmatrix}\\bigg)$"
   ]
  },
  {
   "cell_type": "markdown",
   "metadata": {},
   "source": [
    "### d) Random Whitening Transform Patterns Plot"
   ]
  },
  {
   "cell_type": "code",
   "execution_count": 280,
   "metadata": {
    "collapsed": false
   },
   "outputs": [
    {
     "data": {
      "text/plain": [
       "<matplotlib.collections.PathCollection at 0x12e01b4a8>"
      ]
     },
     "execution_count": 280,
     "metadata": {},
     "output_type": "execute_result"
    },
    {
     "data": {
      "image/png": "[encoded data removed]",
      "text/plain": [
       "<matplotlib.figure.Figure at 0x12d71c3c8>"
      ]
     },
     "metadata": {},
     "output_type": "display_data"
    }
   ],
   "source": [
    "wht_rnd = [np.dot(Aw.T, pair) for pair in rnd]\n",
    "x = [pair[0] for pair in wht_rnd]\n",
    "y = [pair[1] for pair in wht_rnd]\n",
    "\n",
    "plt.scatter(x,y)"
   ]
  },
  {
   "cell_type": "markdown",
   "metadata": {},
   "source": [
    "Compared to part b,the patterns are distributed in a more circular shape and the shape is not tilted like it was in part b."
   ]
  },
  {
   "cell_type": "markdown",
   "metadata": {},
   "source": [
    "# 7)"
   ]
  },
  {
   "cell_type": "markdown",
   "metadata": {},
   "source": [
    "### a) Bayes decision boundary"
   ]
  },
  {
   "cell_type": "code",
   "execution_count": 383,
   "metadata": {
    "collapsed": false
   },
   "outputs": [
    {
     "data": {
      "text/latex": [
       "$N(\\mu, \\Sigma)=\\frac{1}{(2\\pi)^{d/2}\\begin{vmatrix}\\Sigma\\end{vmatrix}^{1/2}}\n",
       "\\exp{[\\frac{-1}{2}(x-\\mu)^{t}\\Sigma^{-1}(x-\\mu)]}$ $$$$\n",
       "Since we're computing the boundary, we can set $p(\\omega_{1}\\mid x)=p(\\omega_{2}\\mid x)$ and solve for x. $$$$\n",
       "$p(x\\mid\\omega_{1})\\sim N(\\begin{bmatrix}0\\\\0\\end{bmatrix}, 2I)\n",
       "=>p(\\omega_{1}\\mid x)=\\frac{1}{2}\\frac{1}{(2\\pi)^{2/2}\\begin{vmatrix}2I\\end{vmatrix}^{1/2}}\n",
       "\\exp{[\\frac{-1}{2}(\\begin{bmatrix}x_{1}&x_{2}\\end{bmatrix}-\\begin{bmatrix}0&0\\end{bmatrix})2I^{-1}(\\begin{bmatrix}x_{1}\\\\x_{2}\\end{bmatrix}-\\begin{bmatrix}0\\\\0\\end{bmatrix})]}$ $$$$\n",
       "$p(x\\mid\\omega_{2})\\sim N(\\begin{bmatrix}2\\\\2\\end{bmatrix}, I)\n",
       "=>p(\\omega_{1}\\mid x)=\\frac{1}{2}\\frac{1}{(2\\pi)^{2/2}\\begin{vmatrix}I\\end{vmatrix}^{1/2}}\n",
       "\\exp{[\\frac{-1}{2}(\\begin{bmatrix}x_{1}&x_{2}\\end{bmatrix}-\\begin{bmatrix}2&2\\end{bmatrix})I^{-1}(\\begin{bmatrix}x_{1}\\\\x_{2}\\end{bmatrix}-\\begin{bmatrix}2\\\\2\\end{bmatrix})]}$ $$$$\n",
       "We can take the natural log of both sides to get rid of the exponential as well as some constant terms since d is the same in both equations. The priors are also equal so we don't have to worry abou those since they will cancel and lastly I divided both sides by $\\frac{-1}{2}$.\n",
       "As a reference, I used equation (69) on page 41 in the textbook.$$$$\n",
       "$\\begin{vmatrix}2I\\end{vmatrix} = 4;2I^{-1}=\\begin{bmatrix}\\frac{1}{2}&0\\\\0&\\frac{1}{2}\\end{bmatrix};\n",
       "\\begin{vmatrix}I\\end{vmatrix} = 1;I^{-1}=\\begin{bmatrix}1&0\\\\0&1\\end{bmatrix}$ $$$$\n",
       "$ln(4)+\\begin{bmatrix}x_{1}&x_{2}\\end{bmatrix}\\begin{bmatrix}\\frac{1}{2}&0\\\\0&\\frac{1}{2}\\end{bmatrix}\\begin{bmatrix}x_{1}\\\\x_{2}\\end{bmatrix}=\n",
       "ln(1)+\\begin{bmatrix}x_{1}-2&x_{2}-2\\end{bmatrix}\\begin{bmatrix}1&0\\\\0&1\\end{bmatrix}\\begin{bmatrix}x_{1}-2\\\\x_{2}-2\\end{bmatrix}$ $$$$\n",
       "$=>ln(4)+\\frac{x_{1}^2}{2}+\\frac{x_{2}^2}{2}=(x_{1}-2)^2+(x_{2}-2)^2$ $$$$\n",
       "$=>ln(4)+\\frac{x_{1}^2}{2}+\\frac{x_{2}^2}{2}=x_{1}^2-4x_{1}+4+x_{2}^2-4x_{2}+4$ $$$$\n",
       "$=>2ln(4)+x_{1}^2+x_{2}^2=2x_{1}^2-8x_{1}+8+2x_{2}^2-8x_{2}+8$ $$$$\n",
       "$=>2ln(4)-16=x_{1}^2-8x_{1}+x_{2}^2-8x_{2}$ $$$$\n",
       "Complete the square. $$$$\n",
       "$=>2ln(4)-16+32=x_{1}^2-8x_{1}+16+x_{2}^2-8x_{2}+16$ $$$$\n",
       "$=>2ln(4)+16=(x_{1}-4)^2+(x_{2}-4)^2$ $$$$\n",
       "2d boundary is an ellipse centered at $(4,4)$ with radius $\\sqrt{2ln(4)+16}$"
      ],
      "text/plain": [
       "<IPython.core.display.Latex object>"
      ]
     },
     "metadata": {},
     "output_type": "display_data"
    }
   ],
   "source": [
    "%%latex\n",
    "$N(\\mu, \\Sigma)=\\frac{1}{(2\\pi)^{d/2}\\begin{vmatrix}\\Sigma\\end{vmatrix}^{1/2}}\n",
    "\\exp{[\\frac{-1}{2}(x-\\mu)^{t}\\Sigma^{-1}(x-\\mu)]}$ $$$$\n",
    "Since we're computing the boundary, we can set $p(\\omega_{1}\\mid x)=p(\\omega_{2}\\mid x)$ and solve for x. $$$$\n",
    "$p(x\\mid\\omega_{1})\\sim N(\\begin{bmatrix}0\\\\0\\end{bmatrix}, 2I)\n",
    "=>p(\\omega_{1}\\mid x)=\\frac{1}{2}\\frac{1}{(2\\pi)^{2/2}\\begin{vmatrix}2I\\end{vmatrix}^{1/2}}\n",
    "\\exp{[\\frac{-1}{2}(\\begin{bmatrix}x_{1}&x_{2}\\end{bmatrix}-\\begin{bmatrix}0&0\\end{bmatrix})2I^{-1}(\\begin{bmatrix}x_{1}\\\\x_{2}\\end{bmatrix}-\\begin{bmatrix}0\\\\0\\end{bmatrix})]}$ $$$$\n",
    "$p(x\\mid\\omega_{2})\\sim N(\\begin{bmatrix}2\\\\2\\end{bmatrix}, I)\n",
    "=>p(\\omega_{1}\\mid x)=\\frac{1}{2}\\frac{1}{(2\\pi)^{2/2}\\begin{vmatrix}I\\end{vmatrix}^{1/2}}\n",
    "\\exp{[\\frac{-1}{2}(\\begin{bmatrix}x_{1}&x_{2}\\end{bmatrix}-\\begin{bmatrix}2&2\\end{bmatrix})I^{-1}(\\begin{bmatrix}x_{1}\\\\x_{2}\\end{bmatrix}-\\begin{bmatrix}2\\\\2\\end{bmatrix})]}$ $$$$\n",
    "We can take the natural log of both sides to get rid of the exponential as well as some constant terms since d is the same in both equations. The priors are also equal so we don't have to worry abou those since they will cancel and lastly I divided both sides by $\\frac{-1}{2}$.\n",
    "As a reference, I used equation (69) on page 41 in the textbook.$$$$\n",
    "$\\begin{vmatrix}2I\\end{vmatrix} = 4;2I^{-1}=\\begin{bmatrix}\\frac{1}{2}&0\\\\0&\\frac{1}{2}\\end{bmatrix};\n",
    "\\begin{vmatrix}I\\end{vmatrix} = 1;I^{-1}=\\begin{bmatrix}1&0\\\\0&1\\end{bmatrix}$ $$$$\n",
    "$ln(4)+\\begin{bmatrix}x_{1}&x_{2}\\end{bmatrix}\\begin{bmatrix}\\frac{1}{2}&0\\\\0&\\frac{1}{2}\\end{bmatrix}\\begin{bmatrix}x_{1}\\\\x_{2}\\end{bmatrix}=\n",
    "ln(1)+\\begin{bmatrix}x_{1}-2&x_{2}-2\\end{bmatrix}\\begin{bmatrix}1&0\\\\0&1\\end{bmatrix}\\begin{bmatrix}x_{1}-2\\\\x_{2}-2\\end{bmatrix}$ $$$$\n",
    "$=>ln(4)+\\frac{x_{1}^2}{2}+\\frac{x_{2}^2}{2}=(x_{1}-2)^2+(x_{2}-2)^2$ $$$$\n",
    "$=>ln(4)+\\frac{x_{1}^2}{2}+\\frac{x_{2}^2}{2}=x_{1}^2-4x_{1}+4+x_{2}^2-4x_{2}+4$ $$$$\n",
    "$=>2ln(4)+x_{1}^2+x_{2}^2=2x_{1}^2-8x_{1}+8+2x_{2}^2-8x_{2}+8$ $$$$\n",
    "$=>2ln(4)-16=x_{1}^2-8x_{1}+x_{2}^2-8x_{2}$ $$$$\n",
    "Complete the square. $$$$\n",
    "$=>2ln(4)-16+32=x_{1}^2-8x_{1}+16+x_{2}^2-8x_{2}+16$ $$$$\n",
    "$=>2ln(4)+16=(x_{1}-4)^2+(x_{2}-4)^2$ $$$$\n",
    "2d boundary is an ellipse centered at $(4,4)$ with radius $\\sqrt{2ln(4)+16}$"
   ]
  },
  {
   "cell_type": "markdown",
   "metadata": {},
   "source": [
    "### b) Plot Visualization"
   ]
  },
  {
   "cell_type": "code",
   "execution_count": 442,
   "metadata": {
    "collapsed": false
   },
   "outputs": [
    {
     "data": {
      "text/plain": [
       "<matplotlib.patches.Circle at 0x12651cb38>"
      ]
     },
     "execution_count": 442,
     "metadata": {},
     "output_type": "execute_result"
    },
    {
     "data": {
      "image/png": "[encoded data removed]",
      "text/plain": [
       "<matplotlib.figure.Figure at 0x1255a2a90>"
      ]
     },
     "metadata": {},
     "output_type": "display_data"
    }
   ],
   "source": [
    "mu1 = np.array([0,0])\n",
    "sigma1 = np.array([[2,0], [0,2]])\n",
    "mu2 = np.array([2,2])\n",
    "sigma2 = np.array([[1,0],[0,1]])\n",
    "\n",
    "rnd1 = np.random.multivariate_normal(mu1, sigma1, 10000)\n",
    "rnd2 = np.random.multivariate_normal(mu2, sigma2, 10000)\n",
    "\n",
    "x1 = [pair[0] for pair in rnd1]\n",
    "y1 = [pair[1] for pair in rnd1]\n",
    "\n",
    "x2 = [pair[0] for pair in rnd2]\n",
    "y2 = [pair[1] for pair in rnd2]\n",
    "\n",
    "fig,ax = plt.subplots(1)\n",
    "plt.scatter(x1,y1, color='blue')\n",
    "plt.scatter(x2,y2, color='green')\n",
    "\n",
    "#circle help from https://stackoverflow.com/questions/34902477/drawing-circles-on-image-with-matplotlib-and-numpy\n",
    "circ = matplotlib.patches.Circle((4,4), math.sqrt(2*math.log(4)+16), color=\"orange\", fill=False)\n",
    "ax.add_patch(circ)"
   ]
  },
  {
   "cell_type": "markdown",
   "metadata": {},
   "source": [
    "# 8)"
   ]
  },
  {
   "cell_type": "markdown",
   "metadata": {},
   "source": [
    "### a) Bayes decision rule"
   ]
  },
  {
   "cell_type": "code",
   "execution_count": 443,
   "metadata": {
    "collapsed": false
   },
   "outputs": [
    {
     "data": {
      "text/latex": [
       "Assign $x$ to $\\omega_{1}$ if $p(\\omega_{1}\\mid x) > p(\\omega_{2}\\mid x)$ else assign $x$ to $\\omega_{2}$ $$$$\n",
       "Similar to last problem, but using equation (59) from page 39 because covariance matrices are equal. $$$$\n",
       "Also, since I started by dividing by $\\frac{-1}{2}$, I'll flip the sign. Priors are equal so they cancel out. $$$$\n",
       "$\\begin{bmatrix}x_{1}+1&x_{2}+1\\end{bmatrix}I\\begin{bmatrix}x_{1}+1\\\\x_{2}+1\\end{bmatrix} < \n",
       "\\begin{bmatrix}x_{1}-1&x_{2}+1\\end{bmatrix}I\\begin{bmatrix}x_{1}-1\\\\x_{2}+1\\end{bmatrix}$ $$$$\n",
       "$=>(x_{1}+1)^2+(x_{2}+1)^2 < (x_{1}-1)^2+(x_{2}-1)^2$ $$$$\n",
       "$=>x_{1}^2+2x_{1}+1+x_{2}^2+2x_{2}+1 < x_{1}^2-2x_{1}+1+x_{2}^2-2x_{2}+1$ $$$$\n",
       "$=>4x_{1}<-4x_{2}$ $$$$\n",
       "$=>-x_{1}>x_{2}$ $$$$\n",
       "Assign $x$ to $\\omega_{1}$ if $-x_{1}>x_{2}$ else assign $x$ to $\\omega_{2}$ $$$$"
      ],
      "text/plain": [
       "<IPython.core.display.Latex object>"
      ]
     },
     "metadata": {},
     "output_type": "display_data"
    }
   ],
   "source": [
    "%%latex\n",
    "Assign $x$ to $\\omega_{1}$ if $p(\\omega_{1}\\mid x) > p(\\omega_{2}\\mid x)$ else assign $x$ to $\\omega_{2}$ $$$$\n",
    "Similar to last problem, but using equation (59) from page 39 because covariance matrices are equal. $$$$\n",
    "Also, since I started by dividing by $\\frac{-1}{2}$, I'll flip the sign. Priors are equal so they cancel out. $$$$\n",
    "$\\begin{bmatrix}x_{1}+1&x_{2}+1\\end{bmatrix}I\\begin{bmatrix}x_{1}+1\\\\x_{2}+1\\end{bmatrix} < \n",
    "\\begin{bmatrix}x_{1}-1&x_{2}+1\\end{bmatrix}I\\begin{bmatrix}x_{1}-1\\\\x_{2}+1\\end{bmatrix}$ $$$$\n",
    "$=>(x_{1}+1)^2+(x_{2}+1)^2 < (x_{1}-1)^2+(x_{2}-1)^2$ $$$$\n",
    "$=>x_{1}^2+2x_{1}+1+x_{2}^2+2x_{2}+1 < x_{1}^2-2x_{1}+1+x_{2}^2-2x_{2}+1$ $$$$\n",
    "$=>4x_{1}<-4x_{2}$ $$$$\n",
    "$=>-x_{1}>x_{2}$ $$$$\n",
    "Assign $x$ to $\\omega_{1}$ if $-x_{1}>x_{2}$ else assign $x$ to $\\omega_{2}$ $$$$"
   ]
  },
  {
   "cell_type": "markdown",
   "metadata": {},
   "source": [
    "### b) Bounds"
   ]
  },
  {
   "cell_type": "code",
   "execution_count": 489,
   "metadata": {
    "collapsed": false
   },
   "outputs": [
    {
     "data": {
      "text/latex": [
       "Reference to page 48 in the textbook. $$$$\n",
       "$P(error)\\leq\\sqrt{P(\\omega_{1})P(\\omega_{2})}\\exp[-k(\\beta)]$ $$$$\n",
       "Where $k(\\beta) = \\frac{\\beta(1-\\beta)}{2}(\\mu_{2}-\\mu_{1})^{t}\n",
       "[\\beta\\Sigma_{1}+(1-\\beta)\\Sigma_{2}]^{-1}(\\mu_{2}-\\mu_{1})\n",
       "+\\frac{1}{2}ln(\\frac{\\begin{vmatrix}\\beta\\Sigma_{1}+(1-\\beta)\\Sigma_{2}\\end{vmatrix}}\n",
       "{\\begin{vmatrix}\\Sigma_{1}\\end{vmatrix}^{\\beta}\\begin{vmatrix}\\Sigma_{2}\\end{vmatrix}^{1-\\beta}})$ $$$$\n",
       "$=>\\frac{\\beta-\\beta^2}{2}\\begin{bmatrix}2&2\\end{bmatrix}\n",
       "\\begin{bmatrix}\\beta(1-\\beta)&0\\\\0&\\beta(1-\\beta)\\end{bmatrix}\n",
       "\\begin{bmatrix}2\\\\2\\end{bmatrix}\n",
       "+\\frac{1}{2}ln(\\frac{1}{1})$ $$$$\n",
       "$=>\\frac{\\beta-\\beta^2}{2}\\begin{bmatrix}2&2\\end{bmatrix}\n",
       "\\begin{bmatrix}1&0\\\\0&1\\end{bmatrix}\n",
       "\\begin{bmatrix}2\\\\2\\end{bmatrix}\n",
       "+\\frac{1}{2}ln(\\frac{1}{1})$ $$$$\n",
       "$=>\\frac{\\beta-\\beta^2}{2}*8$ $$$$\n",
       "$=>4\\beta-4\\beta^2$ $$$$\n",
       "Bhattacharyya bound, set $\\beta=\\frac{1}{2}$ $$$$\n",
       "$P(error)\\leq\\sqrt{\\frac{1}{2}*\\frac{1}{2}}\\exp[-k(\\frac{1}{2})]$ $$$$\n",
       "$P(error)\\leq\\frac{1}{2}\\exp[-k(\\frac{1}{2})]$ $$$$\n",
       "$P(error)\\leq\\frac{1}{2}\\exp[-(4(\\frac{1}{2})-4(\\frac{1}{2})^2)]$ $$$$\n",
       "$P(error)\\leq\\frac{1}{2}\\exp[-1]$ $$$$\n",
       "$P(error)\\leq0.184$ $$$$\n",
       "Chernoff bound, set $\\frac{d}{d\\beta}k(\\beta)=0$ and solve for $\\beta$ which will be minimum. $$$$\n",
       "$\\frac{d}{d\\beta}[4\\beta-4\\beta^2]$ $$$$\n",
       "$=>4-8\\beta = 0$ $$$$\n",
       "$=>\\beta=\\frac{1}{2}$ which means chernoff bound $=$ Bhattacharyya bound $=0.184$ $$$$"
      ],
      "text/plain": [
       "<IPython.core.display.Latex object>"
      ]
     },
     "metadata": {},
     "output_type": "display_data"
    }
   ],
   "source": [
    "%%latex\n",
    "Reference to page 48 in the textbook. $$$$\n",
    "$P(error)\\leq\\sqrt{P(\\omega_{1})P(\\omega_{2})}\\exp[-k(\\beta)]$ $$$$\n",
    "Where $k(\\beta) = \\frac{\\beta(1-\\beta)}{2}(\\mu_{2}-\\mu_{1})^{t}\n",
    "[\\beta\\Sigma_{1}+(1-\\beta)\\Sigma_{2}]^{-1}(\\mu_{2}-\\mu_{1})\n",
    "+\\frac{1}{2}ln(\\frac{\\begin{vmatrix}\\beta\\Sigma_{1}+(1-\\beta)\\Sigma_{2}\\end{vmatrix}}\n",
    "{\\begin{vmatrix}\\Sigma_{1}\\end{vmatrix}^{\\beta}\\begin{vmatrix}\\Sigma_{2}\\end{vmatrix}^{1-\\beta}})$ $$$$\n",
    "$=>\\frac{\\beta-\\beta^2}{2}\\begin{bmatrix}2&2\\end{bmatrix}\n",
    "\\begin{bmatrix}\\beta(1-\\beta)&0\\\\0&\\beta(1-\\beta)\\end{bmatrix}\n",
    "\\begin{bmatrix}2\\\\2\\end{bmatrix}\n",
    "+\\frac{1}{2}ln(\\frac{1}{1})$ $$$$\n",
    "$=>\\frac{\\beta-\\beta^2}{2}\\begin{bmatrix}2&2\\end{bmatrix}\n",
    "\\begin{bmatrix}1&0\\\\0&1\\end{bmatrix}\n",
    "\\begin{bmatrix}2\\\\2\\end{bmatrix}\n",
    "+\\frac{1}{2}ln(\\frac{1}{1})$ $$$$\n",
    "$=>\\frac{\\beta-\\beta^2}{2}*8$ $$$$\n",
    "$=>4\\beta-4\\beta^2$ $$$$\n",
    "Bhattacharyya bound, set $\\beta=\\frac{1}{2}$ $$$$\n",
    "$P(error)\\leq\\sqrt{\\frac{1}{2}*\\frac{1}{2}}\\exp[-k(\\frac{1}{2})]$ $$$$\n",
    "$P(error)\\leq\\frac{1}{2}\\exp[-k(\\frac{1}{2})]$ $$$$\n",
    "$P(error)\\leq\\frac{1}{2}\\exp[-(4(\\frac{1}{2})-4(\\frac{1}{2})^2)]$ $$$$\n",
    "$P(error)\\leq\\frac{1}{2}\\exp[-1]$ $$$$\n",
    "$P(error)\\leq0.184$ $$$$\n",
    "Chernoff bound, set $\\frac{d}{d\\beta}k(\\beta)=0$ and solve for $\\beta$ which will be minimum. $$$$\n",
    "$\\frac{d}{d\\beta}[4\\beta-4\\beta^2]$ $$$$\n",
    "$=>4-8\\beta = 0$ $$$$\n",
    "$=>\\beta=\\frac{1}{2}$ which means chernoff bound $=$ Bhattacharyya bound $=0.184$ $$$$"
   ]
  },
  {
   "cell_type": "markdown",
   "metadata": {},
   "source": [
    "### c) Plots"
   ]
  },
  {
   "cell_type": "code",
   "execution_count": 492,
   "metadata": {
    "collapsed": false
   },
   "outputs": [
    {
     "data": {
      "text/plain": [
       "[<matplotlib.lines.Line2D at 0x118378f98>]"
      ]
     },
     "execution_count": 492,
     "metadata": {},
     "output_type": "execute_result"
    },
    {
     "data": {
      "image/png": "[encoded data removed]",
      "text/plain": [
       "<matplotlib.figure.Figure at 0x125ecd5c0>"
      ]
     },
     "metadata": {},
     "output_type": "display_data"
    }
   ],
   "source": [
    "mu1 = np.array([-1,-1])\n",
    "sigma1 = np.array([[1,0], [0,1]])\n",
    "mu2 = np.array([1,1])\n",
    "sigma2 = np.array([[1,0],[0,1]])\n",
    "\n",
    "rnd1 = np.random.multivariate_normal(mu1, sigma1, 25)\n",
    "rnd2 = np.random.multivariate_normal(mu2, sigma2, 25)\n",
    "\n",
    "x1 = [pair[0] for pair in rnd1]\n",
    "y1 = [pair[1] for pair in rnd1]\n",
    "\n",
    "x2 = [pair[0] for pair in rnd2]\n",
    "y2 = [pair[1] for pair in rnd2]\n",
    "\n",
    "xb = list(range(-4,5))\n",
    "yb = [-i for i in xb]\n",
    "\n",
    "fig,ax = plt.subplots(1)\n",
    "plt.scatter(x1,y1, color='blue')\n",
    "plt.scatter(x2,y2, color='green')\n",
    "\n",
    "plt.plot(xb,yb,color=\"orange\")"
   ]
  },
  {
   "cell_type": "markdown",
   "metadata": {},
   "source": [
    "### d) Confusion Matrix"
   ]
  },
  {
   "cell_type": "code",
   "execution_count": 493,
   "metadata": {
    "collapsed": false
   },
   "outputs": [
    {
     "name": "stdout",
     "output_type": "stream",
     "text": [
      "Correctly classified: 45 data points (23 as w1 and 22 as w2)\n",
      "Incorrectly classified: 5 data points(2 as w1 and 3 as w2)\n",
      "Total: 50 data points\n",
      "Error rate 5/50 = 0.1\n",
      "\n",
      "confusion matrix =\n",
      "[[23  2]\n",
      " [ 3 22]]\n"
     ]
    }
   ],
   "source": [
    "# Find correctly and incorrectly classified data points\n",
    "correct_w1, incorrect_w1, correct_w2, incorrect_w2 = 0, 0, 0, 0\n",
    "for x,y in rnd1:\n",
    "    if -y-x > 0:\n",
    "        correct_w1 += 1\n",
    "    else:\n",
    "        incorrect_w1 += 1\n",
    "        \n",
    "for x,y in rnd2:\n",
    "    if -y-x > 0:\n",
    "        incorrect_w2 += 1\n",
    "    else:\n",
    "        correct_w2 += 1\n",
    "            \n",
    "total = correct_w1+incorrect_w1+correct_w2+incorrect_w2\n",
    "correct_total = correct_w1 + correct_w2\n",
    "incorrect_total = incorrect_w1 + incorrect_w2\n",
    "output = \"\"\"Correctly classified: {} data points ({} as w1 and {} as w2)\n",
    "Incorrectly classified: {} data points({} as w1 and {} as w2)\n",
    "Total: {} data points\\nError rate {}/{} = {}\"\"\"\n",
    "print(output.format(correct_total, correct_w1, correct_w2, incorrect_total, incorrect_w1, \\\n",
    "                    incorrect_w2, total, incorrect_total, total, incorrect_total/total))\n",
    "confusion = np.array([[correct_w1, incorrect_w1],[incorrect_w2, correct_w2]])\n",
    "\n",
    "print(\"\\nconfusion matrix =\")\n",
    "print(confusion)"
   ]
  },
  {
   "cell_type": "markdown",
   "metadata": {},
   "source": [
    "No, the empircal error cannot exceed the thoeretical bounds. This is because the theoretical bounds are an upper bound on the error, which is saying that the theoretical bound is the maximum possible error. The error may very well be lower than that, but that is the greatest error that might occur."
   ]
  },
  {
   "cell_type": "code",
   "execution_count": null,
   "metadata": {
    "collapsed": true
   },
   "outputs": [],
   "source": []
  }
 ],
 "metadata": {
  "kernelspec": {
   "display_name": "Python [Root]",
   "language": "python",
   "name": "Python [Root]"
  },
  "language_info": {
   "codemirror_mode": {
    "name": "ipython",
    "version": 3
   },
   "file_extension": ".py",
   "mimetype": "text/x-python",
   "name": "python",
   "nbconvert_exporter": "python",
   "pygments_lexer": "ipython3",
   "version": "3.5.2"
  }
 },
 "nbformat": 4,
 "nbformat_minor": 0
}
